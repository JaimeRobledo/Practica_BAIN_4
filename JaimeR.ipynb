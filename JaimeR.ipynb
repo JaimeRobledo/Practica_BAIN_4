{
 "cells": [
  {
   "cell_type": "code",
   "execution_count": 1,
   "id": "c7682b34",
   "metadata": {},
   "outputs": [
    {
     "name": "stderr",
     "output_type": "stream",
     "text": [
      "c:\\Users\\Jaime Robledo\\AppData\\Local\\Programs\\Python\\Python312\\Lib\\site-packages\\tqdm\\auto.py:21: TqdmWarning: IProgress not found. Please update jupyter and ipywidgets. See https://ipywidgets.readthedocs.io/en/stable/user_install.html\n",
      "  from .autonotebook import tqdm as notebook_tqdm\n"
     ]
    },
    {
     "name": "stdout",
     "output_type": "stream",
     "text": [
      "2.6.0.dev20241112+cu121\n",
      "True\n",
      "Torch disponible: True\n",
      "TensorFlow disponible: False\n"
     ]
    }
   ],
   "source": [
    "import pandas as pd\n",
    "from sklearn.metrics import classification_report\n",
    "from transformers import AutoTokenizer, AutoModelForCausalLM, pipeline,AutoModelForSeq2SeqLM\n",
    "\n",
    "import torch\n",
    "print(torch.__version__)\n",
    "print(torch.cuda.is_available())\n",
    "from transformers.utils import is_torch_available, is_tf_available\n",
    "\n",
    "print(\"Torch disponible:\", is_torch_available())\n",
    "print(\"TensorFlow disponible:\", is_tf_available())\n",
    "\n"
   ]
  },
  {
   "cell_type": "code",
   "execution_count": 4,
   "id": "fc1a9c03",
   "metadata": {},
   "outputs": [
    {
     "name": "stdout",
     "output_type": "stream",
     "text": [
      "                       opinion     label\n",
      "0          Es un gran servicio  positiva\n",
      "1                   Es regular   neutral\n",
      "2          Es un producto útil  positiva\n",
      "3                 Es un fraude  negativa\n",
      "4               Me gusta mucho  positiva\n",
      "5               Es un desastre  negativa\n",
      "6           Es un mal servicio  negativa\n",
      "7        Es un producto inútil  negativa\n",
      "8           No lo recomendaría  negativa\n",
      "9       Me encantó el producto  positiva\n",
      "10                 No me gusta  negativa\n",
      "11               Es fantástico  positiva\n",
      "12                  Me encanta  positiva\n",
      "13         Es un buen producto  positiva\n",
      "14                Es muy bueno  positiva\n",
      "15          Es un mal servicio  negativa\n",
      "16    Es una pérdida de dinero  negativa\n",
      "17         No es nada especial   neutral\n",
      "18       Es un producto normal   neutral\n",
      "19                     Te odio  negativa\n",
      "20         Es un buen servicio  positiva\n",
      "21         Es un gran producto  positiva\n",
      "22      Es un producto decente   neutral\n",
      "23  Es un producto excepcional  positiva\n",
      "24                  Es un robo  negativa\n",
      "25                 Es horrible  negativa\n",
      "26                Es aceptable   neutral\n",
      "27          Es un mal producto  negativa\n",
      "28            Es impresionante  positiva\n",
      "29                Es increíble  positiva\n"
     ]
    }
   ],
   "source": [
    "df = pd.read_csv('INPUT/emociones.csv')\n",
    "df = df[['opinion', 'label']]\n",
    "df = df.dropna()\n",
    "df = df.sample(30, random_state=42).reset_index(drop=True)\n",
    "print(df)\n"
   ]
  },
  {
   "cell_type": "code",
   "execution_count": null,
   "id": "83a967bf",
   "metadata": {},
   "outputs": [
    {
     "ename": "NameError",
     "evalue": "name 'prompt_base' is not defined",
     "output_type": "error",
     "traceback": [
      "\u001b[1;31m---------------------------------------------------------------------------\u001b[0m",
      "\u001b[1;31mNameError\u001b[0m                                 Traceback (most recent call last)",
      "Cell \u001b[1;32mIn[9], line 26\u001b[0m\n\u001b[0;32m      6\u001b[0m few_shot_prompt \u001b[38;5;241m=\u001b[39m \u001b[38;5;124mf\u001b[39m\u001b[38;5;124m\"\"\"\u001b[39m\n\u001b[0;32m      7\u001b[0m \u001b[38;5;124mAquí tienes algunas opiniones clasificadas:\u001b[39m\n\u001b[0;32m      8\u001b[0m \n\u001b[1;32m   (...)\u001b[0m\n\u001b[0;32m     13\u001b[0m \u001b[38;5;124mClasifica esta opinión: \u001b[39m\u001b[38;5;132;01m{\u001b[39;00mopinion\u001b[38;5;132;01m}\u001b[39;00m\n\u001b[0;32m     14\u001b[0m \u001b[38;5;124m\"\"\"\u001b[39m\n\u001b[0;32m     16\u001b[0m cot_prompt \u001b[38;5;241m=\u001b[39m \u001b[38;5;124mf\u001b[39m\u001b[38;5;124m\"\"\"\u001b[39m\n\u001b[0;32m     17\u001b[0m \u001b[38;5;124mPensando en la siguiente opinión:\u001b[39m\n\u001b[0;32m     18\u001b[0m \n\u001b[1;32m   (...)\u001b[0m\n\u001b[0;32m     21\u001b[0m \u001b[38;5;124mEl sentimiento puede ser positivo, negativo o neutral. ¿Qué opinas?\u001b[39m\n\u001b[0;32m     22\u001b[0m \u001b[38;5;124m\"\"\"\u001b[39m\n\u001b[0;32m     25\u001b[0m prompts \u001b[38;5;241m=\u001b[39m {\n\u001b[1;32m---> 26\u001b[0m     \u001b[38;5;124m\"\u001b[39m\u001b[38;5;124mprompt\u001b[39m\u001b[38;5;124m\"\u001b[39m: \u001b[43mprompt_base\u001b[49m,\n\u001b[0;32m     27\u001b[0m     \u001b[38;5;124m\"\u001b[39m\u001b[38;5;124mzero-shot\u001b[39m\u001b[38;5;124m\"\u001b[39m: zero_shot_prompt,\n\u001b[0;32m     28\u001b[0m     \u001b[38;5;124m\"\u001b[39m\u001b[38;5;124mfew-shot\u001b[39m\u001b[38;5;124m\"\u001b[39m: few_shot_prompt,\n\u001b[0;32m     29\u001b[0m     \u001b[38;5;124m\"\u001b[39m\u001b[38;5;124mchain-of-thought\u001b[39m\u001b[38;5;124m\"\u001b[39m: cot_prompt\n\u001b[0;32m     30\u001b[0m }\n",
      "\u001b[1;31mNameError\u001b[0m: name 'prompt_base' is not defined"
     ]
    }
   ],
   "source": [
    "prompt_base = f\"Clasifica la siguiente opinión en base a como interpretes la actitud del mensaje, dicha actitud puede ser vista como positiva, negativa o neutral: {opinion}\"\n",
    "\n",
    "zero_shot_prompt = f\"Clasifica la siguiente opinión como positiva, negativa o neutral: {opinion}\"\n",
    "\n",
    "\n",
    "few_shot_prompt = f\"\"\"\n",
    "Aquí tienes algunas opiniones clasificadas:\n",
    "\n",
    "Opinión: 'Me encanta este producto. Es increíble.' → Sentimiento: positivo\n",
    "Opinión: 'Este servicio es terrible, nunca lo recomendaría.' → Sentimiento: negativo\n",
    "Opinión: 'El artículo está bien, pero no es excepcional.' → Sentimiento: neutral\n",
    "\n",
    "Clasifica esta opinión: {opinion}\n",
    "\"\"\"\n",
    "\n",
    "cot_prompt = f\"\"\"\n",
    "Pensando en la siguiente opinión:\n",
    "\n",
    "Opinión: '{opinion}'\n",
    "\n",
    "El sentimiento puede ser positivo, negativo o neutral. ¿Qué opinas?\n",
    "\"\"\"\n",
    "\n",
    "\n",
    "prompts = {\n",
    "    \"prompt\": prompt_base,\n",
    "    \"zero-shot\": zero_shot_prompt,\n",
    "    \"few-shot\": few_shot_prompt,\n",
    "    \"chain-of-thought\": cot_prompt\n",
    "}"
   ]
  },
  {
   "cell_type": "code",
   "execution_count": 8,
   "id": "12fac698",
   "metadata": {},
   "outputs": [
    {
     "name": "stderr",
     "output_type": "stream",
     "text": [
      "Device set to use cuda:0\n"
     ]
    },
    {
     "ename": "NameError",
     "evalue": "name 'zero_shot_prompt' is not defined",
     "output_type": "error",
     "traceback": [
      "\u001b[1;31m---------------------------------------------------------------------------\u001b[0m",
      "\u001b[1;31mNameError\u001b[0m                                 Traceback (most recent call last)",
      "Cell \u001b[1;32mIn[8], line 13\u001b[0m\n\u001b[0;32m      9\u001b[0m \u001b[38;5;66;03m# Clasificar cada opinión y mostrar resultado\u001b[39;00m\n\u001b[0;32m     10\u001b[0m \u001b[38;5;28;01mfor\u001b[39;00m opinion \u001b[38;5;129;01min\u001b[39;00m df[\u001b[38;5;124m'\u001b[39m\u001b[38;5;124mopinion\u001b[39m\u001b[38;5;124m'\u001b[39m]:\n\u001b[0;32m     11\u001b[0m \n\u001b[0;32m     12\u001b[0m     \u001b[38;5;66;03m# Generar predicción con Zero-shot\u001b[39;00m\n\u001b[1;32m---> 13\u001b[0m     prompt_zero_shot \u001b[38;5;241m=\u001b[39m \u001b[43mzero_shot_prompt\u001b[49m\u001b[38;5;241m.\u001b[39mformat(opinion)\n\u001b[0;32m     14\u001b[0m     result_zero_shot \u001b[38;5;241m=\u001b[39m generator(prompt_zero_shot, max_length\u001b[38;5;241m=\u001b[39m\u001b[38;5;241m100\u001b[39m, num_return_sequences\u001b[38;5;241m=\u001b[39m\u001b[38;5;241m1\u001b[39m)\n\u001b[0;32m     15\u001b[0m     sentiment_zero_shot \u001b[38;5;241m=\u001b[39m result_zero_shot[\u001b[38;5;241m0\u001b[39m][\u001b[38;5;124m\"\u001b[39m\u001b[38;5;124mgenerated_text\u001b[39m\u001b[38;5;124m\"\u001b[39m]\n",
      "\u001b[1;31mNameError\u001b[0m: name 'zero_shot_prompt' is not defined"
     ]
    }
   ],
   "source": [
    "\n",
    "generator = pipeline('text-generation', model=\"gpt2\", device=0)\n",
    "\n",
    "# Lista para almacenar las predicciones\n",
    "predictions_base = []\n",
    "predictions_zero_shot = []\n",
    "predictions_few_shot = []\n",
    "predictions_cot = []\n",
    "\n",
    "# Clasificar cada opinión y mostrar resultado\n",
    "for opinion in df['opinion']:\n",
    "\n",
    "    # Generar predicción con Zero-shot\n",
    "    prompt_zero_shot = zero_shot_prompt.format(opinion)\n",
    "    result_zero_shot = generator(prompt_zero_shot, max_length=100, num_return_sequences=1)\n",
    "    sentiment_zero_shot = result_zero_shot[0][\"generated_text\"]\n",
    "    \n",
    "    # Generar predicción con Few-shot\n",
    "    prompt_few_shot = few_shot_prompt.format(opinion)\n",
    "    result_few_shot = generator(prompt_few_shot, max_new_tokens=50, num_return_sequences=1)\n",
    "    sentiment_few_shot = result_few_shot[0][\"generated_text\"]\n",
    "\n",
    "    # Generar predicción con el prompt base\n",
    "    prompt = prompt_base.format(opinion)\n",
    "    result_base = generator(prompt, max_length=100, num_return_sequences=1)\n",
    "    sentiment_base = result_base[0][\"generated_text\"]\n",
    "    \n",
    "    # Generar predicción con Chain-of-thought\n",
    "    prompt_cot = cot_prompt.format(opinion)\n",
    "    result_cot = generator(prompt_cot, max_length=100, num_return_sequences=1)\n",
    "    sentiment_cot = result_cot[0][\"generated_text\"]\n",
    "    \n",
    "    # Asignar sentimientos de acuerdo al texto generado\n",
    "    def assign_sentiment(response):\n",
    "        if \"positivo\" in response.lower():\n",
    "            return \"positivo\"\n",
    "        elif \"negativo\" in response.lower():\n",
    "            return \"negativo\"\n",
    "        elif \"neutral\" in response.lower():\n",
    "            return \"neutral\"\n",
    "        else:\n",
    "            return \"desconocido\"\n",
    "    \n",
    "    # Asignar sentimientos a cada predicción\n",
    "    predictions_base.append(assign_sentiment(sentiment_base))\n",
    "    predictions_zero_shot.append(assign_sentiment(sentiment_zero_shot))\n",
    "    predictions_few_shot.append(assign_sentiment(sentiment_few_shot))\n",
    "    predictions_cot.append(assign_sentiment(sentiment_cot))\n",
    "\n",
    "    # Imprimir resultados\n",
    "    print(f\"Opinión: {opinion}\\n → Zero-shot Sentimiento: {predictions_zero_shot[-1]}\")\n",
    "    print(f\" → Few-shot Sentimiento: {predictions_few_shot[-1]}\")\n",
    "    print(f\" → Chain-of-thought Sentimiento: {predictions_cot[-1]}\")\n",
    "    print(f\" → Base Sentimiento: Sentimiento: {predictions_base[-1]}\\n\")\n",
    "\n",
    "# Añadir las predicciones al DataFrame\n",
    "df['prompt_base'] = prompt_base\n",
    "df['prediccion_zero_shot'] = predictions_zero_shot\n",
    "df['prediccion_few_shot'] = predictions_few_shot\n",
    "df['prediccion_cot'] = predictions_cot\n",
    "\n",
    "# Mostrar el DataFrame con los resultados\n",
    "print(df[['opinion', 'label', 'prompt_base' ,'prediccion_zero_shot', 'prediccion_few_shot', 'prediccion_cot']])"
   ]
  },
  {
   "cell_type": "code",
   "execution_count": null,
   "id": "25a5a8e2",
   "metadata": {},
   "outputs": [],
   "source": [
    "classifier = pipeline('sentiment-analysis', model='nlptown/bert-base-multilingual-uncased-sentiment')\n",
    "\n",
    "for opinion in df['opinion']:\n",
    "    sentiment = classifier(opinion)\n",
    "    print(f\"Opinión: {opinion} → Sentimiento: {sentiment[0]['label']}\")\n"
   ]
  },
  {
   "cell_type": "code",
   "execution_count": null,
   "id": "1ad6158f",
   "metadata": {},
   "outputs": [],
   "source": []
  }
 ],
 "metadata": {
  "kernelspec": {
   "display_name": "Python 3",
   "language": "python",
   "name": "python3"
  },
  "language_info": {
   "codemirror_mode": {
    "name": "ipython",
    "version": 3
   },
   "file_extension": ".py",
   "mimetype": "text/x-python",
   "name": "python",
   "nbconvert_exporter": "python",
   "pygments_lexer": "ipython3",
   "version": "3.12.6"
  }
 },
 "nbformat": 4,
 "nbformat_minor": 5
}
