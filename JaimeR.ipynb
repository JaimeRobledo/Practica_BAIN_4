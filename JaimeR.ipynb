{
 "cells": [
  {
   "cell_type": "code",
   "execution_count": 1,
   "id": "c7682b34",
   "metadata": {},
   "outputs": [
    {
     "name": "stderr",
     "output_type": "stream",
     "text": [
      "c:\\Users\\Jaime Robledo\\AppData\\Local\\Programs\\Python\\Python312\\Lib\\site-packages\\tqdm\\auto.py:21: TqdmWarning: IProgress not found. Please update jupyter and ipywidgets. See https://ipywidgets.readthedocs.io/en/stable/user_install.html\n",
      "  from .autonotebook import tqdm as notebook_tqdm\n"
     ]
    },
    {
     "name": "stdout",
     "output_type": "stream",
     "text": [
      "2.6.0.dev20241112+cu121\n",
      "True\n",
      "Torch disponible: True\n",
      "TensorFlow disponible: False\n"
     ]
    }
   ],
   "source": [
    "import pandas as pd\n",
    "from sklearn.metrics import classification_report\n",
    "from transformers import AutoTokenizer, AutoModelForCausalLM, pipeline,AutoModelForSeq2SeqLM\n",
    "\n",
    "import torch\n",
    "print(torch.__version__)\n",
    "print(torch.cuda.is_available())\n",
    "from transformers.utils import is_torch_available, is_tf_available\n",
    "\n",
    "print(\"Torch disponible:\", is_torch_available())\n",
    "print(\"TensorFlow disponible:\", is_tf_available())\n",
    "\n"
   ]
  },
  {
   "cell_type": "code",
   "execution_count": 2,
   "id": "fc1a9c03",
   "metadata": {},
   "outputs": [
    {
     "name": "stdout",
     "output_type": "stream",
     "text": [
      "                       opinion     label\n",
      "0          Es un gran servicio  positiva\n",
      "1                   Es regular   neutral\n",
      "2          Es un producto útil  positiva\n",
      "3                 Es un fraude  negativa\n",
      "4               Me gusta mucho  positiva\n",
      "5               Es un desastre  negativa\n",
      "6           Es un mal servicio  negativa\n",
      "7        Es un producto inútil  negativa\n",
      "8           No lo recomendaría  negativa\n",
      "9       Me encantó el producto  positiva\n",
      "10                 No me gusta  negativa\n",
      "11               Es fantástico  positiva\n",
      "12                  Me encanta  positiva\n",
      "13         Es un buen producto  positiva\n",
      "14                Es muy bueno  positiva\n",
      "15          Es un mal servicio  negativa\n",
      "16    Es una pérdida de dinero  negativa\n",
      "17         No es nada especial   neutral\n",
      "18       Es un producto normal   neutral\n",
      "19                     Te odio  negativa\n",
      "20         Es un buen servicio  positiva\n",
      "21         Es un gran producto  positiva\n",
      "22      Es un producto decente   neutral\n",
      "23  Es un producto excepcional  positiva\n",
      "24                  Es un robo  negativa\n",
      "25                 Es horrible  negativa\n",
      "26                Es aceptable   neutral\n",
      "27          Es un mal producto  negativa\n",
      "28            Es impresionante  positiva\n",
      "29                Es increíble  positiva\n"
     ]
    }
   ],
   "source": [
    "df = pd.read_csv('INPUT/emociones.csv')\n",
    "df = df[['opinion', 'label']]\n",
    "df = df.dropna()\n",
    "df = df.sample(30, random_state=42).reset_index(drop=True)\n",
    "print(df)\n"
   ]
  },
  {
   "cell_type": "code",
   "execution_count": null,
   "id": "83a967bf",
   "metadata": {},
   "outputs": [],
   "source": []
  },
  {
   "cell_type": "code",
   "execution_count": null,
   "id": "12fac698",
   "metadata": {},
   "outputs": [
    {
     "name": "stderr",
     "output_type": "stream",
     "text": [
      "Device set to use cuda:0\n",
      "Truncation was not explicitly activated but `max_length` is provided a specific value, please use `truncation=True` to explicitly truncate examples to max length. Defaulting to 'longest_first' truncation strategy. If you encode pairs of sequences (GLUE-style) with the tokenizer you can select this strategy more precisely by providing a specific strategy to `truncation`.\n",
      "Setting `pad_token_id` to `eos_token_id`:50256 for open-end generation.\n",
      "Setting `pad_token_id` to `eos_token_id`:50256 for open-end generation.\n",
      "Setting `pad_token_id` to `eos_token_id`:50256 for open-end generation.\n",
      "Setting `pad_token_id` to `eos_token_id`:50256 for open-end generation.\n"
     ]
    },
    {
     "name": "stdout",
     "output_type": "stream",
     "text": [
      "-----------------------------------------,[{'generated_text': 'The sentiment of the next frase would you say is positive, negative or neutral?: the frase (Es un gran servicio) is a \\xa0positive term. \\xa0The word is used because of the \\xa0negative value of the term. \\xa0One of the principal problems in frases is that the frase is held by men with\\xa0a deep dislike for the woman as a woman. \\xa0You can find a woman who is willing to break the rule of the man if'}]\n",
      "-----------------------------------------,The sentiment of the next frase would you say is positive, negative or neutral?: the frase (Es un gran servicio) is a  positive term.  The word is used because of the  negative value of the term.  One of the principal problems in frases is that the frase is held by men with a deep dislike for the woman as a woman.  You can find a woman who is willing to break the rule of the man if\n"
     ]
    },
    {
     "name": "stderr",
     "output_type": "stream",
     "text": [
      "Setting `pad_token_id` to `eos_token_id`:50256 for open-end generation.\n"
     ]
    },
    {
     "name": "stdout",
     "output_type": "stream",
     "text": [
      "Opinión: Es un gran servicio\n",
      " → Zero-shot Sentimiento: neutral\n",
      " → Few-shot Sentimiento: positivo\n",
      " → Chain-of-thought Sentimiento: positivo\n",
      " → Base Sentimiento: Sentimiento: neutral\n",
      "\n"
     ]
    },
    {
     "name": "stderr",
     "output_type": "stream",
     "text": [
      "Setting `pad_token_id` to `eos_token_id`:50256 for open-end generation.\n",
      "Setting `pad_token_id` to `eos_token_id`:50256 for open-end generation.\n",
      "Setting `pad_token_id` to `eos_token_id`:50256 for open-end generation.\n"
     ]
    },
    {
     "name": "stdout",
     "output_type": "stream",
     "text": [
      "-----------------------------------------,[{'generated_text': 'The sentiment of the next frase would you say is positive, negative or neutral?: the frase (Es regular) is a iced tea. It is very bitter, tastes like black tea, and has an easy, pleasant flavor. If you add 1-2 tsp of pepper into the juice (pig tea or cherry or even grape or cassis) it will bring down the pH of the tea. In the following tea combinations this amount can be much higher or you can leave it out'}]\n",
      "-----------------------------------------,The sentiment of the next frase would you say is positive, negative or neutral?: the frase (Es regular) is a iced tea. It is very bitter, tastes like black tea, and has an easy, pleasant flavor. If you add 1-2 tsp of pepper into the juice (pig tea or cherry or even grape or cassis) it will bring down the pH of the tea. In the following tea combinations this amount can be much higher or you can leave it out\n"
     ]
    },
    {
     "name": "stderr",
     "output_type": "stream",
     "text": [
      "Setting `pad_token_id` to `eos_token_id`:50256 for open-end generation.\n"
     ]
    },
    {
     "name": "stdout",
     "output_type": "stream",
     "text": [
      "Opinión: Es regular\n",
      " → Zero-shot Sentimiento: neutral\n",
      " → Few-shot Sentimiento: positivo\n",
      " → Chain-of-thought Sentimiento: positivo\n",
      " → Base Sentimiento: Sentimiento: neutral\n",
      "\n"
     ]
    },
    {
     "name": "stderr",
     "output_type": "stream",
     "text": [
      "Setting `pad_token_id` to `eos_token_id`:50256 for open-end generation.\n",
      "Setting `pad_token_id` to `eos_token_id`:50256 for open-end generation.\n",
      "Setting `pad_token_id` to `eos_token_id`:50256 for open-end generation.\n"
     ]
    },
    {
     "name": "stdout",
     "output_type": "stream",
     "text": [
      "-----------------------------------------,[{'generated_text': 'The sentiment of the next frase would you say is positive, negative or neutral?: the frase (Es un producto útil) is a vernacular term for the fratricide of the male and the female frases of the male and the female (Es estu) of the respective women. However, the phrase was used by the American Philosophical Society in 1853 to describe a sexual attraction for the male that could be considered a male effeminate act for both'}]\n",
      "-----------------------------------------,The sentiment of the next frase would you say is positive, negative or neutral?: the frase (Es un producto útil) is a vernacular term for the fratricide of the male and the female frases of the male and the female (Es estu) of the respective women. However, the phrase was used by the American Philosophical Society in 1853 to describe a sexual attraction for the male that could be considered a male effeminate act for both\n"
     ]
    },
    {
     "name": "stderr",
     "output_type": "stream",
     "text": [
      "Setting `pad_token_id` to `eos_token_id`:50256 for open-end generation.\n"
     ]
    },
    {
     "name": "stdout",
     "output_type": "stream",
     "text": [
      "Opinión: Es un producto útil\n",
      " → Zero-shot Sentimiento: neutral\n",
      " → Few-shot Sentimiento: positivo\n",
      " → Chain-of-thought Sentimiento: positivo\n",
      " → Base Sentimiento: Sentimiento: neutral\n",
      "\n"
     ]
    },
    {
     "name": "stderr",
     "output_type": "stream",
     "text": [
      "Setting `pad_token_id` to `eos_token_id`:50256 for open-end generation.\n",
      "Setting `pad_token_id` to `eos_token_id`:50256 for open-end generation.\n",
      "Setting `pad_token_id` to `eos_token_id`:50256 for open-end generation.\n",
      "Setting `pad_token_id` to `eos_token_id`:50256 for open-end generation.\n"
     ]
    },
    {
     "name": "stdout",
     "output_type": "stream",
     "text": [
      "-----------------------------------------,[{'generated_text': 'The sentiment of the next frase would you say is positive, negative or neutral?: the frase (Es un fraude) is a ikle (a non-negotiable). The ferm is a word. The ferm is not used in the dictionary but when used in the ferm of the second paragraph, also a word, then it can be used as is.\\n\\nIn the same way, there are no frases and they are all very useful words (if'}]\n",
      "-----------------------------------------,The sentiment of the next frase would you say is positive, negative or neutral?: the frase (Es un fraude) is a ikle (a non-negotiable). The ferm is a word. The ferm is not used in the dictionary but when used in the ferm of the second paragraph, also a word, then it can be used as is.\n",
      "\n",
      "In the same way, there are no frases and they are all very useful words (if\n",
      "Opinión: Es un fraude\n",
      " → Zero-shot Sentimiento: neutral\n",
      " → Few-shot Sentimiento: positivo\n",
      " → Chain-of-thought Sentimiento: positivo\n",
      " → Base Sentimiento: Sentimiento: neutral\n",
      "\n"
     ]
    },
    {
     "name": "stderr",
     "output_type": "stream",
     "text": [
      "Setting `pad_token_id` to `eos_token_id`:50256 for open-end generation.\n",
      "Setting `pad_token_id` to `eos_token_id`:50256 for open-end generation.\n",
      "Setting `pad_token_id` to `eos_token_id`:50256 for open-end generation.\n"
     ]
    },
    {
     "name": "stdout",
     "output_type": "stream",
     "text": [
      "-----------------------------------------,[{'generated_text': 'The sentiment of the next frase would you say is positive, negative or neutral?: the frase (Me gusta mucho) is a vernacular of the senses, of the heart, of the stomach with its own characteristic of the heart, of the mind, which consists of the mind, the body, the mind and the heart, and contains with all the sense organs of the heart and the body, and consists of all different parts and parts of what is called the brain, the'}]\n",
      "-----------------------------------------,The sentiment of the next frase would you say is positive, negative or neutral?: the frase (Me gusta mucho) is a vernacular of the senses, of the heart, of the stomach with its own characteristic of the heart, of the mind, which consists of the mind, the body, the mind and the heart, and contains with all the sense organs of the heart and the body, and consists of all different parts and parts of what is called the brain, the\n"
     ]
    },
    {
     "name": "stderr",
     "output_type": "stream",
     "text": [
      "Setting `pad_token_id` to `eos_token_id`:50256 for open-end generation.\n"
     ]
    },
    {
     "name": "stdout",
     "output_type": "stream",
     "text": [
      "Opinión: Me gusta mucho\n",
      " → Zero-shot Sentimiento: neutral\n",
      " → Few-shot Sentimiento: positivo\n",
      " → Chain-of-thought Sentimiento: positivo\n",
      " → Base Sentimiento: Sentimiento: neutral\n",
      "\n"
     ]
    },
    {
     "name": "stderr",
     "output_type": "stream",
     "text": [
      "Setting `pad_token_id` to `eos_token_id`:50256 for open-end generation.\n",
      "Setting `pad_token_id` to `eos_token_id`:50256 for open-end generation.\n",
      "Setting `pad_token_id` to `eos_token_id`:50256 for open-end generation.\n"
     ]
    },
    {
     "name": "stdout",
     "output_type": "stream",
     "text": [
      "-----------------------------------------,[{'generated_text': \"The sentiment of the next frase would you say is positive, negative or neutral?: the frase (Es un desastre) is a vernacular of words such as desafré (instrumental), l'Empressure (permanent), or empressor.\\n\\nYou don't think something like that is a real frase? Is it so bad for us to have a frase that represents to us a life of loneliness?\\n\\nYes, a life\"}]\n",
      "-----------------------------------------,The sentiment of the next frase would you say is positive, negative or neutral?: the frase (Es un desastre) is a vernacular of words such as desafré (instrumental), l'Empressure (permanent), or empressor.\n",
      "\n",
      "You don't think something like that is a real frase? Is it so bad for us to have a frase that represents to us a life of loneliness?\n",
      "\n",
      "Yes, a life\n"
     ]
    },
    {
     "name": "stderr",
     "output_type": "stream",
     "text": [
      "Setting `pad_token_id` to `eos_token_id`:50256 for open-end generation.\n"
     ]
    },
    {
     "name": "stdout",
     "output_type": "stream",
     "text": [
      "Opinión: Es un desastre\n",
      " → Zero-shot Sentimiento: neutral\n",
      " → Few-shot Sentimiento: positivo\n",
      " → Chain-of-thought Sentimiento: positivo\n",
      " → Base Sentimiento: Sentimiento: neutral\n",
      "\n"
     ]
    },
    {
     "name": "stderr",
     "output_type": "stream",
     "text": [
      "Setting `pad_token_id` to `eos_token_id`:50256 for open-end generation.\n",
      "Setting `pad_token_id` to `eos_token_id`:50256 for open-end generation.\n",
      "Setting `pad_token_id` to `eos_token_id`:50256 for open-end generation.\n"
     ]
    },
    {
     "name": "stdout",
     "output_type": "stream",
     "text": [
      "-----------------------------------------,[{'generated_text': 'The sentiment of the next frase would you say is positive, negative or neutral?: the frase (Es un mal servicio) is a vernacular of an Italian word for \"ghetto\", and a word meaning a particular locality/cultural community. In this sense, it denotes a community where a particular ethnic or spiritual type of individual and/or group is also living, working and reproducing on a global level.\\n\\nOn this basis, I believe of the frasing that exists'}]\n",
      "-----------------------------------------,The sentiment of the next frase would you say is positive, negative or neutral?: the frase (Es un mal servicio) is a vernacular of an Italian word for \"ghetto\", and a word meaning a particular locality/cultural community. In this sense, it denotes a community where a particular ethnic or spiritual type of individual and/or group is also living, working and reproducing on a global level.\n",
      "\n",
      "On this basis, I believe of the frasing that exists\n"
     ]
    },
    {
     "name": "stderr",
     "output_type": "stream",
     "text": [
      "Setting `pad_token_id` to `eos_token_id`:50256 for open-end generation.\n"
     ]
    },
    {
     "name": "stdout",
     "output_type": "stream",
     "text": [
      "Opinión: Es un mal servicio\n",
      " → Zero-shot Sentimiento: neutral\n",
      " → Few-shot Sentimiento: positivo\n",
      " → Chain-of-thought Sentimiento: positivo\n",
      " → Base Sentimiento: Sentimiento: neutral\n",
      "\n"
     ]
    },
    {
     "name": "stderr",
     "output_type": "stream",
     "text": [
      "Setting `pad_token_id` to `eos_token_id`:50256 for open-end generation.\n",
      "Setting `pad_token_id` to `eos_token_id`:50256 for open-end generation.\n",
      "Setting `pad_token_id` to `eos_token_id`:50256 for open-end generation.\n",
      "Setting `pad_token_id` to `eos_token_id`:50256 for open-end generation.\n"
     ]
    },
    {
     "name": "stdout",
     "output_type": "stream",
     "text": [
      "-----------------------------------------,[{'generated_text': 'The sentiment of the next frase would you say is positive, negative or neutral?: the frase (Es un producto inútil) is a été salução de contrástico de su fazio: it could be an été salusão de contrástico de su fazio, or an été salusão de contrástico de su fazio, depending on what is the desired meaning. The word \"'}]\n",
      "-----------------------------------------,The sentiment of the next frase would you say is positive, negative or neutral?: the frase (Es un producto inútil) is a été salução de contrástico de su fazio: it could be an été salusão de contrástico de su fazio, or an été salusão de contrástico de su fazio, depending on what is the desired meaning. The word \"\n",
      "Opinión: Es un producto inútil\n",
      " → Zero-shot Sentimiento: neutral\n",
      " → Few-shot Sentimiento: positivo\n",
      " → Chain-of-thought Sentimiento: positivo\n",
      " → Base Sentimiento: Sentimiento: neutral\n",
      "\n"
     ]
    },
    {
     "name": "stderr",
     "output_type": "stream",
     "text": [
      "Setting `pad_token_id` to `eos_token_id`:50256 for open-end generation.\n",
      "Setting `pad_token_id` to `eos_token_id`:50256 for open-end generation.\n",
      "Setting `pad_token_id` to `eos_token_id`:50256 for open-end generation.\n"
     ]
    },
    {
     "name": "stdout",
     "output_type": "stream",
     "text": [
      "-----------------------------------------,[{'generated_text': 'The sentiment of the next frase would you say is positive, negative or neutral?: the frase (No lo recomendaría) is a vernacular that means: \"The light of day\". \"The light of day\" is usually applied to a sunny day or sunny weather like the US summer, or also to a hot and dry year like the USA summer. This way it means, for example, in the USA it means \"the winter is over\".\\n\\nIt means:'}]\n",
      "-----------------------------------------,The sentiment of the next frase would you say is positive, negative or neutral?: the frase (No lo recomendaría) is a vernacular that means: \"The light of day\". \"The light of day\" is usually applied to a sunny day or sunny weather like the US summer, or also to a hot and dry year like the USA summer. This way it means, for example, in the USA it means \"the winter is over\".\n",
      "\n",
      "It means:\n"
     ]
    },
    {
     "name": "stderr",
     "output_type": "stream",
     "text": [
      "Setting `pad_token_id` to `eos_token_id`:50256 for open-end generation.\n"
     ]
    },
    {
     "name": "stdout",
     "output_type": "stream",
     "text": [
      "Opinión: No lo recomendaría\n",
      " → Zero-shot Sentimiento: neutral\n",
      " → Few-shot Sentimiento: positivo\n",
      " → Chain-of-thought Sentimiento: positivo\n",
      " → Base Sentimiento: Sentimiento: neutral\n",
      "\n"
     ]
    },
    {
     "name": "stderr",
     "output_type": "stream",
     "text": [
      "Setting `pad_token_id` to `eos_token_id`:50256 for open-end generation.\n",
      "Setting `pad_token_id` to `eos_token_id`:50256 for open-end generation.\n",
      "Setting `pad_token_id` to `eos_token_id`:50256 for open-end generation.\n"
     ]
    },
    {
     "name": "stdout",
     "output_type": "stream",
     "text": [
      "-----------------------------------------,[{'generated_text': 'The sentiment of the next frase would you say is positive, negative or neutral?: the frase (Me encantó el producto) is a vernacular word for:\\n\\na small, flat surface, a space of which there are no objects but small ones (me encantó la producto). For many reasons, the expression is often interpreted as a derogatory term for the product [1] in a negative sense. Such words often have negative meanings, as the \"small'}]\n",
      "-----------------------------------------,The sentiment of the next frase would you say is positive, negative or neutral?: the frase (Me encantó el producto) is a vernacular word for:\n",
      "\n",
      "a small, flat surface, a space of which there are no objects but small ones (me encantó la producto). For many reasons, the expression is often interpreted as a derogatory term for the product [1] in a negative sense. Such words often have negative meanings, as the \"small\n"
     ]
    },
    {
     "name": "stderr",
     "output_type": "stream",
     "text": [
      "Setting `pad_token_id` to `eos_token_id`:50256 for open-end generation.\n"
     ]
    },
    {
     "name": "stdout",
     "output_type": "stream",
     "text": [
      "Opinión: Me encantó el producto\n",
      " → Zero-shot Sentimiento: neutral\n",
      " → Few-shot Sentimiento: positivo\n",
      " → Chain-of-thought Sentimiento: positivo\n",
      " → Base Sentimiento: Sentimiento: neutral\n",
      "\n"
     ]
    },
    {
     "name": "stderr",
     "output_type": "stream",
     "text": [
      "Setting `pad_token_id` to `eos_token_id`:50256 for open-end generation.\n",
      "Setting `pad_token_id` to `eos_token_id`:50256 for open-end generation.\n",
      "Setting `pad_token_id` to `eos_token_id`:50256 for open-end generation.\n"
     ]
    },
    {
     "name": "stdout",
     "output_type": "stream",
     "text": [
      "-----------------------------------------,[{'generated_text': 'The sentiment of the next frase would you say is positive, negative or neutral?: the frase (No me gusta) is a vernacular form of the Greek word frassica, meaning \"house, house\", from Proto-Indo-European *tosma- (\"one who is made in haste with all things\"), meaning \"to be, to stand\", meaning \"to be in charge\".'}]\n",
      "-----------------------------------------,The sentiment of the next frase would you say is positive, negative or neutral?: the frase (No me gusta) is a vernacular form of the Greek word frassica, meaning \"house, house\", from Proto-Indo-European *tosma- (\"one who is made in haste with all things\"), meaning \"to be, to stand\", meaning \"to be in charge\".\n"
     ]
    },
    {
     "name": "stderr",
     "output_type": "stream",
     "text": [
      "Setting `pad_token_id` to `eos_token_id`:50256 for open-end generation.\n"
     ]
    },
    {
     "name": "stdout",
     "output_type": "stream",
     "text": [
      "Opinión: No me gusta\n",
      " → Zero-shot Sentimiento: neutral\n",
      " → Few-shot Sentimiento: positivo\n",
      " → Chain-of-thought Sentimiento: positivo\n",
      " → Base Sentimiento: Sentimiento: neutral\n",
      "\n"
     ]
    },
    {
     "name": "stderr",
     "output_type": "stream",
     "text": [
      "Setting `pad_token_id` to `eos_token_id`:50256 for open-end generation.\n",
      "Setting `pad_token_id` to `eos_token_id`:50256 for open-end generation.\n",
      "Setting `pad_token_id` to `eos_token_id`:50256 for open-end generation.\n"
     ]
    },
    {
     "name": "stdout",
     "output_type": "stream",
     "text": [
      "-----------------------------------------,[{'generated_text': \"The sentiment of the next frase would you say is positive, negative or neutral?: the frase (Es fantástico) is a ˜queþícé (a feeling) of peace, love and community. ˜queán (an emotion) means: 'to rejoice in peace'; egalá (a feeling) means: 'to rejoice in delight', hací (a feeling) means: 'to rejoice in peace or of the joy of life'.\"}]\n",
      "-----------------------------------------,The sentiment of the next frase would you say is positive, negative or neutral?: the frase (Es fantástico) is a ˜queþícé (a feeling) of peace, love and community. ˜queán (an emotion) means: 'to rejoice in peace'; egalá (a feeling) means: 'to rejoice in delight', hací (a feeling) means: 'to rejoice in peace or of the joy of life'.\n"
     ]
    },
    {
     "name": "stderr",
     "output_type": "stream",
     "text": [
      "Setting `pad_token_id` to `eos_token_id`:50256 for open-end generation.\n"
     ]
    },
    {
     "name": "stdout",
     "output_type": "stream",
     "text": [
      "Opinión: Es fantástico\n",
      " → Zero-shot Sentimiento: neutral\n",
      " → Few-shot Sentimiento: positivo\n",
      " → Chain-of-thought Sentimiento: positivo\n",
      " → Base Sentimiento: Sentimiento: neutral\n",
      "\n"
     ]
    },
    {
     "name": "stderr",
     "output_type": "stream",
     "text": [
      "Setting `pad_token_id` to `eos_token_id`:50256 for open-end generation.\n",
      "Setting `pad_token_id` to `eos_token_id`:50256 for open-end generation.\n",
      "Setting `pad_token_id` to `eos_token_id`:50256 for open-end generation.\n"
     ]
    },
    {
     "name": "stdout",
     "output_type": "stream",
     "text": [
      "-----------------------------------------,[{'generated_text': 'The sentiment of the next frase would you say is positive, negative or neutral?: the frase (Me encanta) is a vernacular in all Spanish dictionaries, the word verno is a Latin term for neutral, and the word verno (Me encanta) is an English word.\\n\\nI am not, for the record, aware of which words are considered the most common. A more sophisticated method of classification is to use a standard classification system. Many Spanish'}]\n",
      "-----------------------------------------,The sentiment of the next frase would you say is positive, negative or neutral?: the frase (Me encanta) is a vernacular in all Spanish dictionaries, the word verno is a Latin term for neutral, and the word verno (Me encanta) is an English word.\n",
      "\n",
      "I am not, for the record, aware of which words are considered the most common. A more sophisticated method of classification is to use a standard classification system. Many Spanish\n"
     ]
    },
    {
     "name": "stderr",
     "output_type": "stream",
     "text": [
      "Setting `pad_token_id` to `eos_token_id`:50256 for open-end generation.\n"
     ]
    },
    {
     "name": "stdout",
     "output_type": "stream",
     "text": [
      "Opinión: Me encanta\n",
      " → Zero-shot Sentimiento: neutral\n",
      " → Few-shot Sentimiento: positivo\n",
      " → Chain-of-thought Sentimiento: positivo\n",
      " → Base Sentimiento: Sentimiento: neutral\n",
      "\n"
     ]
    },
    {
     "name": "stderr",
     "output_type": "stream",
     "text": [
      "Setting `pad_token_id` to `eos_token_id`:50256 for open-end generation.\n",
      "Setting `pad_token_id` to `eos_token_id`:50256 for open-end generation.\n",
      "Setting `pad_token_id` to `eos_token_id`:50256 for open-end generation.\n"
     ]
    },
    {
     "name": "stdout",
     "output_type": "stream",
     "text": [
      "-----------------------------------------,[{'generated_text': 'The sentiment of the next frase would you say is positive, negative or neutral?: the frase (Es un buen producto) is a été colloquialism of the American people. \"Frode [sic] frase, frou de frat[o]\" and it is an expression of the desire of the people by their representatives, of the public good. It is a form of self-expression which is not only expressive of a great deal but also of'}]\n",
      "-----------------------------------------,The sentiment of the next frase would you say is positive, negative or neutral?: the frase (Es un buen producto) is a été colloquialism of the American people. \"Frode [sic] frase, frou de frat[o]\" and it is an expression of the desire of the people by their representatives, of the public good. It is a form of self-expression which is not only expressive of a great deal but also of\n"
     ]
    },
    {
     "name": "stderr",
     "output_type": "stream",
     "text": [
      "Setting `pad_token_id` to `eos_token_id`:50256 for open-end generation.\n"
     ]
    },
    {
     "name": "stdout",
     "output_type": "stream",
     "text": [
      "Opinión: Es un buen producto\n",
      " → Zero-shot Sentimiento: neutral\n",
      " → Few-shot Sentimiento: positivo\n",
      " → Chain-of-thought Sentimiento: positivo\n",
      " → Base Sentimiento: Sentimiento: neutral\n",
      "\n"
     ]
    },
    {
     "name": "stderr",
     "output_type": "stream",
     "text": [
      "Setting `pad_token_id` to `eos_token_id`:50256 for open-end generation.\n",
      "Setting `pad_token_id` to `eos_token_id`:50256 for open-end generation.\n",
      "Setting `pad_token_id` to `eos_token_id`:50256 for open-end generation.\n"
     ]
    },
    {
     "name": "stdout",
     "output_type": "stream",
     "text": [
      "-----------------------------------------,[{'generated_text': \"The sentiment of the next frase would you say is positive, negative or neutral?: the frase (Es muy bueno) is a vernacular noun meaning 'the wind blows off its back.' It refers to the phenomenon in which the wind flows away from the central point and strikes the ground, leaving the surrounding areas to rot.\\n\\nHow to conjugate the word frase to the verb or the noun\\n\\nThe verb frase has an vernacular meaning 'to\"}]\n",
      "-----------------------------------------,The sentiment of the next frase would you say is positive, negative or neutral?: the frase (Es muy bueno) is a vernacular noun meaning 'the wind blows off its back.' It refers to the phenomenon in which the wind flows away from the central point and strikes the ground, leaving the surrounding areas to rot.\n",
      "\n",
      "How to conjugate the word frase to the verb or the noun\n",
      "\n",
      "The verb frase has an vernacular meaning 'to\n"
     ]
    },
    {
     "name": "stderr",
     "output_type": "stream",
     "text": [
      "Setting `pad_token_id` to `eos_token_id`:50256 for open-end generation.\n"
     ]
    },
    {
     "name": "stdout",
     "output_type": "stream",
     "text": [
      "Opinión: Es muy bueno\n",
      " → Zero-shot Sentimiento: neutral\n",
      " → Few-shot Sentimiento: positivo\n",
      " → Chain-of-thought Sentimiento: positivo\n",
      " → Base Sentimiento: Sentimiento: neutral\n",
      "\n"
     ]
    },
    {
     "name": "stderr",
     "output_type": "stream",
     "text": [
      "Setting `pad_token_id` to `eos_token_id`:50256 for open-end generation.\n",
      "Setting `pad_token_id` to `eos_token_id`:50256 for open-end generation.\n",
      "Setting `pad_token_id` to `eos_token_id`:50256 for open-end generation.\n"
     ]
    },
    {
     "name": "stdout",
     "output_type": "stream",
     "text": [
      "-----------------------------------------,[{'generated_text': 'The sentiment of the next frase would you say is positive, negative or neutral?: the frase (Es un mal servicio) is a vernacular of what would be termed a frase in this country, or one that has become associated with American and Asian American identity.\\n\\nCan you name a particular frase (Es un mal servicio)?\\n\\nIf your question is not possible for you to answer, you may be asked to select a frase that you want to call'}]\n",
      "-----------------------------------------,The sentiment of the next frase would you say is positive, negative or neutral?: the frase (Es un mal servicio) is a vernacular of what would be termed a frase in this country, or one that has become associated with American and Asian American identity.\n",
      "\n",
      "Can you name a particular frase (Es un mal servicio)?\n",
      "\n",
      "If your question is not possible for you to answer, you may be asked to select a frase that you want to call\n"
     ]
    },
    {
     "name": "stderr",
     "output_type": "stream",
     "text": [
      "Setting `pad_token_id` to `eos_token_id`:50256 for open-end generation.\n"
     ]
    },
    {
     "name": "stdout",
     "output_type": "stream",
     "text": [
      "Opinión: Es un mal servicio\n",
      " → Zero-shot Sentimiento: neutral\n",
      " → Few-shot Sentimiento: positivo\n",
      " → Chain-of-thought Sentimiento: positivo\n",
      " → Base Sentimiento: Sentimiento: neutral\n",
      "\n"
     ]
    },
    {
     "name": "stderr",
     "output_type": "stream",
     "text": [
      "Setting `pad_token_id` to `eos_token_id`:50256 for open-end generation.\n",
      "Setting `pad_token_id` to `eos_token_id`:50256 for open-end generation.\n",
      "Setting `pad_token_id` to `eos_token_id`:50256 for open-end generation.\n"
     ]
    },
    {
     "name": "stdout",
     "output_type": "stream",
     "text": [
      "-----------------------------------------,[{'generated_text': 'The sentiment of the next frase would you say is positive, negative or neutral?: the frase (Es una pérdida de dinero) is a vernacular form of the language (English), usually used as an English greeting greeting, that refers to a person or thing you have met, for example a student, an employee or a company representative. Thus it is often referred to as a greeting. It is understood that, for everyone to feel good about itself, one should'}]\n",
      "-----------------------------------------,The sentiment of the next frase would you say is positive, negative or neutral?: the frase (Es una pérdida de dinero) is a vernacular form of the language (English), usually used as an English greeting greeting, that refers to a person or thing you have met, for example a student, an employee or a company representative. Thus it is often referred to as a greeting. It is understood that, for everyone to feel good about itself, one should\n"
     ]
    },
    {
     "name": "stderr",
     "output_type": "stream",
     "text": [
      "Setting `pad_token_id` to `eos_token_id`:50256 for open-end generation.\n"
     ]
    },
    {
     "name": "stdout",
     "output_type": "stream",
     "text": [
      "Opinión: Es una pérdida de dinero\n",
      " → Zero-shot Sentimiento: neutral\n",
      " → Few-shot Sentimiento: positivo\n",
      " → Chain-of-thought Sentimiento: positivo\n",
      " → Base Sentimiento: Sentimiento: neutral\n",
      "\n"
     ]
    },
    {
     "name": "stderr",
     "output_type": "stream",
     "text": [
      "Setting `pad_token_id` to `eos_token_id`:50256 for open-end generation.\n",
      "Setting `pad_token_id` to `eos_token_id`:50256 for open-end generation.\n",
      "Setting `pad_token_id` to `eos_token_id`:50256 for open-end generation.\n"
     ]
    },
    {
     "name": "stdout",
     "output_type": "stream",
     "text": [
      "-----------------------------------------,[{'generated_text': \"The sentiment of the next frase would you say is positive, negative or neutral?: the frase (No es nada especial) is a āsa-form. It was also used with great influence and authority when people were developing a strong ego or spiritual knowledge. āsa (not to speak for everything on the level of human personality) is usually pronounced 'bravo' or 'bravo-to'. It is common among certain people of the spiritual, social\"}]\n",
      "-----------------------------------------,The sentiment of the next frase would you say is positive, negative or neutral?: the frase (No es nada especial) is a āsa-form. It was also used with great influence and authority when people were developing a strong ego or spiritual knowledge. āsa (not to speak for everything on the level of human personality) is usually pronounced 'bravo' or 'bravo-to'. It is common among certain people of the spiritual, social\n"
     ]
    },
    {
     "name": "stderr",
     "output_type": "stream",
     "text": [
      "Setting `pad_token_id` to `eos_token_id`:50256 for open-end generation.\n"
     ]
    },
    {
     "name": "stdout",
     "output_type": "stream",
     "text": [
      "Opinión: No es nada especial\n",
      " → Zero-shot Sentimiento: neutral\n",
      " → Few-shot Sentimiento: positivo\n",
      " → Chain-of-thought Sentimiento: positivo\n",
      " → Base Sentimiento: Sentimiento: neutral\n",
      "\n"
     ]
    },
    {
     "name": "stderr",
     "output_type": "stream",
     "text": [
      "Setting `pad_token_id` to `eos_token_id`:50256 for open-end generation.\n",
      "Setting `pad_token_id` to `eos_token_id`:50256 for open-end generation.\n",
      "Setting `pad_token_id` to `eos_token_id`:50256 for open-end generation.\n"
     ]
    },
    {
     "name": "stdout",
     "output_type": "stream",
     "text": [
      "-----------------------------------------,[{'generated_text': 'The sentiment of the next frase would you say is positive, negative or neutral?: the frase (Es un producto normal) is a _______. It is very important that the frase itself is normal or normal. In fact, in the _______ _______ _______ which we read as the natural order [as in the human mind, or life form in many kinds of things], we also do not experience the physical world as normal; we experience the external world as normal. The'}]\n",
      "-----------------------------------------,The sentiment of the next frase would you say is positive, negative or neutral?: the frase (Es un producto normal) is a _______. It is very important that the frase itself is normal or normal. In fact, in the _______ _______ _______ which we read as the natural order [as in the human mind, or life form in many kinds of things], we also do not experience the physical world as normal; we experience the external world as normal. The\n"
     ]
    },
    {
     "name": "stderr",
     "output_type": "stream",
     "text": [
      "Setting `pad_token_id` to `eos_token_id`:50256 for open-end generation.\n"
     ]
    },
    {
     "name": "stdout",
     "output_type": "stream",
     "text": [
      "Opinión: Es un producto normal\n",
      " → Zero-shot Sentimiento: neutral\n",
      " → Few-shot Sentimiento: positivo\n",
      " → Chain-of-thought Sentimiento: positivo\n",
      " → Base Sentimiento: Sentimiento: neutral\n",
      "\n"
     ]
    },
    {
     "name": "stderr",
     "output_type": "stream",
     "text": [
      "Setting `pad_token_id` to `eos_token_id`:50256 for open-end generation.\n",
      "Setting `pad_token_id` to `eos_token_id`:50256 for open-end generation.\n",
      "Setting `pad_token_id` to `eos_token_id`:50256 for open-end generation.\n"
     ]
    },
    {
     "name": "stdout",
     "output_type": "stream",
     "text": [
      "-----------------------------------------,[{'generated_text': 'The sentiment of the next frase would you say is positive, negative or neutral?: the frase (Te odio) is a vernacular of the form \"E\", which is the word for \"heals\". You would have to know the other side, like in the game\\'s dialogue, \"You\\'re going to go and heal his wounds!\", \"If he gets damaged…\", \"If he\\'s gonna heal his wounds or does something…\", \"There\\'s something going on here.\"'}]\n",
      "-----------------------------------------,The sentiment of the next frase would you say is positive, negative or neutral?: the frase (Te odio) is a vernacular of the form \"E\", which is the word for \"heals\". You would have to know the other side, like in the game's dialogue, \"You're going to go and heal his wounds!\", \"If he gets damaged…\", \"If he's gonna heal his wounds or does something…\", \"There's something going on here.\"\n"
     ]
    },
    {
     "name": "stderr",
     "output_type": "stream",
     "text": [
      "Setting `pad_token_id` to `eos_token_id`:50256 for open-end generation.\n"
     ]
    },
    {
     "name": "stdout",
     "output_type": "stream",
     "text": [
      "Opinión: Te odio\n",
      " → Zero-shot Sentimiento: neutral\n",
      " → Few-shot Sentimiento: positivo\n",
      " → Chain-of-thought Sentimiento: positivo\n",
      " → Base Sentimiento: Sentimiento: neutral\n",
      "\n"
     ]
    },
    {
     "name": "stderr",
     "output_type": "stream",
     "text": [
      "Setting `pad_token_id` to `eos_token_id`:50256 for open-end generation.\n",
      "Setting `pad_token_id` to `eos_token_id`:50256 for open-end generation.\n",
      "Setting `pad_token_id` to `eos_token_id`:50256 for open-end generation.\n"
     ]
    },
    {
     "name": "stdout",
     "output_type": "stream",
     "text": [
      "-----------------------------------------,[{'generated_text': 'The sentiment of the next frase would you say is positive, negative or neutral?: the frase (Es un buen servicio) is a ipsilateral (or inverted) frase with a single base. It stands for \"the first frase\", in Italian. It also stands for the last frase, in German. The first a, b or c is normally translated as \"The third\" in the German term. Here is a translation of the frase which takes a German'}]\n",
      "-----------------------------------------,The sentiment of the next frase would you say is positive, negative or neutral?: the frase (Es un buen servicio) is a ipsilateral (or inverted) frase with a single base. It stands for \"the first frase\", in Italian. It also stands for the last frase, in German. The first a, b or c is normally translated as \"The third\" in the German term. Here is a translation of the frase which takes a German\n"
     ]
    },
    {
     "name": "stderr",
     "output_type": "stream",
     "text": [
      "Setting `pad_token_id` to `eos_token_id`:50256 for open-end generation.\n"
     ]
    },
    {
     "name": "stdout",
     "output_type": "stream",
     "text": [
      "Opinión: Es un buen servicio\n",
      " → Zero-shot Sentimiento: neutral\n",
      " → Few-shot Sentimiento: positivo\n",
      " → Chain-of-thought Sentimiento: positivo\n",
      " → Base Sentimiento: Sentimiento: neutral\n",
      "\n"
     ]
    },
    {
     "name": "stderr",
     "output_type": "stream",
     "text": [
      "Setting `pad_token_id` to `eos_token_id`:50256 for open-end generation.\n",
      "Setting `pad_token_id` to `eos_token_id`:50256 for open-end generation.\n",
      "Setting `pad_token_id` to `eos_token_id`:50256 for open-end generation.\n"
     ]
    },
    {
     "name": "stdout",
     "output_type": "stream",
     "text": [
      "-----------------------------------------,[{'generated_text': 'The sentiment of the next frase would you say is positive, negative or neutral?: the frase (Es un gran producto) is a vernacular of Italian which is based on English verb frase and vernacular of Italian in French, English, Italian and Spanish. In this context there can be other nouns, but in the sense of the name only the adjective, that is, the noun is the word that conjures something new using an adjective, and the noun is the'}]\n",
      "-----------------------------------------,The sentiment of the next frase would you say is positive, negative or neutral?: the frase (Es un gran producto) is a vernacular of Italian which is based on English verb frase and vernacular of Italian in French, English, Italian and Spanish. In this context there can be other nouns, but in the sense of the name only the adjective, that is, the noun is the word that conjures something new using an adjective, and the noun is the\n"
     ]
    },
    {
     "name": "stderr",
     "output_type": "stream",
     "text": [
      "Setting `pad_token_id` to `eos_token_id`:50256 for open-end generation.\n"
     ]
    },
    {
     "name": "stdout",
     "output_type": "stream",
     "text": [
      "Opinión: Es un gran producto\n",
      " → Zero-shot Sentimiento: neutral\n",
      " → Few-shot Sentimiento: positivo\n",
      " → Chain-of-thought Sentimiento: positivo\n",
      " → Base Sentimiento: Sentimiento: neutral\n",
      "\n"
     ]
    },
    {
     "name": "stderr",
     "output_type": "stream",
     "text": [
      "Setting `pad_token_id` to `eos_token_id`:50256 for open-end generation.\n",
      "Setting `pad_token_id` to `eos_token_id`:50256 for open-end generation.\n",
      "Setting `pad_token_id` to `eos_token_id`:50256 for open-end generation.\n"
     ]
    },
    {
     "name": "stdout",
     "output_type": "stream",
     "text": [
      "-----------------------------------------,[{'generated_text': 'The sentiment of the next frase would you say is positive, negative or neutral?: the frase (Es un producto decente) is a vernacular used only by the Spanish language community (La chía de la chía or la chía es un manercial) to imply that a human male can enter on his female friend to give them food or other gifts. It is based on Latin, Latin-Jewish, and Spanish customs. However, it is also used in the'}]\n",
      "-----------------------------------------,The sentiment of the next frase would you say is positive, negative or neutral?: the frase (Es un producto decente) is a vernacular used only by the Spanish language community (La chía de la chía or la chía es un manercial) to imply that a human male can enter on his female friend to give them food or other gifts. It is based on Latin, Latin-Jewish, and Spanish customs. However, it is also used in the\n"
     ]
    },
    {
     "name": "stderr",
     "output_type": "stream",
     "text": [
      "Setting `pad_token_id` to `eos_token_id`:50256 for open-end generation.\n"
     ]
    },
    {
     "name": "stdout",
     "output_type": "stream",
     "text": [
      "Opinión: Es un producto decente\n",
      " → Zero-shot Sentimiento: neutral\n",
      " → Few-shot Sentimiento: positivo\n",
      " → Chain-of-thought Sentimiento: positivo\n",
      " → Base Sentimiento: Sentimiento: neutral\n",
      "\n"
     ]
    },
    {
     "name": "stderr",
     "output_type": "stream",
     "text": [
      "Setting `pad_token_id` to `eos_token_id`:50256 for open-end generation.\n",
      "Setting `pad_token_id` to `eos_token_id`:50256 for open-end generation.\n",
      "Setting `pad_token_id` to `eos_token_id`:50256 for open-end generation.\n"
     ]
    },
    {
     "name": "stdout",
     "output_type": "stream",
     "text": [
      "-----------------------------------------,[{'generated_text': \"The sentiment of the next frase would you say is positive, negative or neutral?: the frase (Es un producto excepcional) is a vernacular frase that means 'little, little, little'. The term comes from the Latin word frase, which means 'little, little'. Of course the following sounds: 'little, little, little = little, little, tiny, little' is a synonym of 'little, little, little, little, little, little\"}]\n",
      "-----------------------------------------,The sentiment of the next frase would you say is positive, negative or neutral?: the frase (Es un producto excepcional) is a vernacular frase that means 'little, little, little'. The term comes from the Latin word frase, which means 'little, little'. Of course the following sounds: 'little, little, little = little, little, tiny, little' is a synonym of 'little, little, little, little, little, little\n"
     ]
    },
    {
     "name": "stderr",
     "output_type": "stream",
     "text": [
      "Setting `pad_token_id` to `eos_token_id`:50256 for open-end generation.\n"
     ]
    },
    {
     "name": "stdout",
     "output_type": "stream",
     "text": [
      "Opinión: Es un producto excepcional\n",
      " → Zero-shot Sentimiento: neutral\n",
      " → Few-shot Sentimiento: positivo\n",
      " → Chain-of-thought Sentimiento: positivo\n",
      " → Base Sentimiento: Sentimiento: neutral\n",
      "\n"
     ]
    },
    {
     "name": "stderr",
     "output_type": "stream",
     "text": [
      "Setting `pad_token_id` to `eos_token_id`:50256 for open-end generation.\n",
      "Setting `pad_token_id` to `eos_token_id`:50256 for open-end generation.\n",
      "Setting `pad_token_id` to `eos_token_id`:50256 for open-end generation.\n"
     ]
    },
    {
     "name": "stdout",
     "output_type": "stream",
     "text": [
      "-----------------------------------------,[{'generated_text': 'The sentiment of the next frase would you say is positive, negative or neutral?: the frase (Es un robo) is a vernacular term for anything that is, and tends to be, a very good or very good value. It means nothing at all unless you consider it a high and well-known value. Thus, anything which, and especially anything which is, one cannot or should not call something a good value, is certainly not a good value. If you want a'}]\n",
      "-----------------------------------------,The sentiment of the next frase would you say is positive, negative or neutral?: the frase (Es un robo) is a vernacular term for anything that is, and tends to be, a very good or very good value. It means nothing at all unless you consider it a high and well-known value. Thus, anything which, and especially anything which is, one cannot or should not call something a good value, is certainly not a good value. If you want a\n"
     ]
    },
    {
     "name": "stderr",
     "output_type": "stream",
     "text": [
      "Setting `pad_token_id` to `eos_token_id`:50256 for open-end generation.\n"
     ]
    },
    {
     "name": "stdout",
     "output_type": "stream",
     "text": [
      "Opinión: Es un robo\n",
      " → Zero-shot Sentimiento: neutral\n",
      " → Few-shot Sentimiento: positivo\n",
      " → Chain-of-thought Sentimiento: positivo\n",
      " → Base Sentimiento: Sentimiento: neutral\n",
      "\n"
     ]
    },
    {
     "name": "stderr",
     "output_type": "stream",
     "text": [
      "Setting `pad_token_id` to `eos_token_id`:50256 for open-end generation.\n",
      "Setting `pad_token_id` to `eos_token_id`:50256 for open-end generation.\n",
      "Setting `pad_token_id` to `eos_token_id`:50256 for open-end generation.\n"
     ]
    },
    {
     "name": "stdout",
     "output_type": "stream",
     "text": [
      "-----------------------------------------,[{'generated_text': 'The sentiment of the next frase would you say is positive, negative or neutral?: the frase (Es horrible) is a \\xa0prog. I would ask you one question, if you were in an \\xa0joint league for the whole season, are you now going to be honest with yourself about how much money you spend on this game every year? Why are you spending it all? When will your decision be made?\", Reply [0021]\\nAnonymous said...\\nHow do'}]\n",
      "-----------------------------------------,The sentiment of the next frase would you say is positive, negative or neutral?: the frase (Es horrible) is a  prog. I would ask you one question, if you were in an  joint league for the whole season, are you now going to be honest with yourself about how much money you spend on this game every year? Why are you spending it all? When will your decision be made?\", Reply [0021]\n",
      "Anonymous said...\n",
      "How do\n"
     ]
    },
    {
     "name": "stderr",
     "output_type": "stream",
     "text": [
      "Setting `pad_token_id` to `eos_token_id`:50256 for open-end generation.\n"
     ]
    },
    {
     "name": "stdout",
     "output_type": "stream",
     "text": [
      "Opinión: Es horrible\n",
      " → Zero-shot Sentimiento: neutral\n",
      " → Few-shot Sentimiento: positivo\n",
      " → Chain-of-thought Sentimiento: positivo\n",
      " → Base Sentimiento: Sentimiento: neutral\n",
      "\n"
     ]
    },
    {
     "name": "stderr",
     "output_type": "stream",
     "text": [
      "Setting `pad_token_id` to `eos_token_id`:50256 for open-end generation.\n",
      "Setting `pad_token_id` to `eos_token_id`:50256 for open-end generation.\n",
      "Setting `pad_token_id` to `eos_token_id`:50256 for open-end generation.\n"
     ]
    },
    {
     "name": "stdout",
     "output_type": "stream",
     "text": [
      "-----------------------------------------,[{'generated_text': 'The sentiment of the next frase would you say is positive, negative or neutral?: the frase (Es aceptable) is a \\xa0proper word to say if someone thinks you have a negative opinion of your hair, or has said an unfavorable thing to you. (The Frase is a word and an apt word to use; it has been used since the French Frase.)\\nI am sure that some of you will have noticed that they use a similar frase (L'}]\n",
      "-----------------------------------------,The sentiment of the next frase would you say is positive, negative or neutral?: the frase (Es aceptable) is a  proper word to say if someone thinks you have a negative opinion of your hair, or has said an unfavorable thing to you. (The Frase is a word and an apt word to use; it has been used since the French Frase.)\n",
      "I am sure that some of you will have noticed that they use a similar frase (L\n"
     ]
    },
    {
     "name": "stderr",
     "output_type": "stream",
     "text": [
      "Setting `pad_token_id` to `eos_token_id`:50256 for open-end generation.\n"
     ]
    },
    {
     "name": "stdout",
     "output_type": "stream",
     "text": [
      "Opinión: Es aceptable\n",
      " → Zero-shot Sentimiento: neutral\n",
      " → Few-shot Sentimiento: positivo\n",
      " → Chain-of-thought Sentimiento: positivo\n",
      " → Base Sentimiento: Sentimiento: neutral\n",
      "\n"
     ]
    },
    {
     "name": "stderr",
     "output_type": "stream",
     "text": [
      "Setting `pad_token_id` to `eos_token_id`:50256 for open-end generation.\n",
      "Setting `pad_token_id` to `eos_token_id`:50256 for open-end generation.\n",
      "Setting `pad_token_id` to `eos_token_id`:50256 for open-end generation.\n"
     ]
    },
    {
     "name": "stdout",
     "output_type": "stream",
     "text": [
      "-----------------------------------------,[{'generated_text': 'The sentiment of the next frase would you say is positive, negative or neutral?: the frase (Es un mal producto) is a _______ that can be consumed.\\n\\nWhat has been learned from previous and current experiments is that this chemical is highly toxic to humans.\\n\\nThis is to be expected given previous evidence supporting this finding in humans, and there is no evidence that this chemical is toxic or in any way hazardous to humans, animals or nature, especially when compared to the'}]\n",
      "-----------------------------------------,The sentiment of the next frase would you say is positive, negative or neutral?: the frase (Es un mal producto) is a _______ that can be consumed.\n",
      "\n",
      "What has been learned from previous and current experiments is that this chemical is highly toxic to humans.\n",
      "\n",
      "This is to be expected given previous evidence supporting this finding in humans, and there is no evidence that this chemical is toxic or in any way hazardous to humans, animals or nature, especially when compared to the\n"
     ]
    },
    {
     "name": "stderr",
     "output_type": "stream",
     "text": [
      "Setting `pad_token_id` to `eos_token_id`:50256 for open-end generation.\n"
     ]
    },
    {
     "name": "stdout",
     "output_type": "stream",
     "text": [
      "Opinión: Es un mal producto\n",
      " → Zero-shot Sentimiento: neutral\n",
      " → Few-shot Sentimiento: positivo\n",
      " → Chain-of-thought Sentimiento: positivo\n",
      " → Base Sentimiento: Sentimiento: neutral\n",
      "\n"
     ]
    },
    {
     "name": "stderr",
     "output_type": "stream",
     "text": [
      "Setting `pad_token_id` to `eos_token_id`:50256 for open-end generation.\n",
      "Setting `pad_token_id` to `eos_token_id`:50256 for open-end generation.\n",
      "Setting `pad_token_id` to `eos_token_id`:50256 for open-end generation.\n"
     ]
    },
    {
     "name": "stdout",
     "output_type": "stream",
     "text": [
      "-----------------------------------------,[{'generated_text': 'The sentiment of the next frase would you say is positive, negative or neutral?: the frase (Es impresionante) is a vernacular term given to an ancient Greek noun that means the act or course of a single verb or action. It is a way to express a positive attitude, either of a physical nature or of a negative attitude. [6]\\n\\nfouches are used by the word façade to describe a person. Often used both literally and figur'}]\n",
      "-----------------------------------------,The sentiment of the next frase would you say is positive, negative or neutral?: the frase (Es impresionante) is a vernacular term given to an ancient Greek noun that means the act or course of a single verb or action. It is a way to express a positive attitude, either of a physical nature or of a negative attitude. [6]\n",
      "\n",
      "fouches are used by the word façade to describe a person. Often used both literally and figur\n"
     ]
    },
    {
     "name": "stderr",
     "output_type": "stream",
     "text": [
      "Setting `pad_token_id` to `eos_token_id`:50256 for open-end generation.\n"
     ]
    },
    {
     "name": "stdout",
     "output_type": "stream",
     "text": [
      "Opinión: Es impresionante\n",
      " → Zero-shot Sentimiento: neutral\n",
      " → Few-shot Sentimiento: positivo\n",
      " → Chain-of-thought Sentimiento: positivo\n",
      " → Base Sentimiento: Sentimiento: neutral\n",
      "\n"
     ]
    },
    {
     "name": "stderr",
     "output_type": "stream",
     "text": [
      "Setting `pad_token_id` to `eos_token_id`:50256 for open-end generation.\n",
      "Setting `pad_token_id` to `eos_token_id`:50256 for open-end generation.\n",
      "Setting `pad_token_id` to `eos_token_id`:50256 for open-end generation.\n"
     ]
    },
    {
     "name": "stdout",
     "output_type": "stream",
     "text": [
      "-----------------------------------------,[{'generated_text': 'The sentiment of the next frase would you say is positive, negative or neutral?: the frase (Es increíble) is a ______________/__(es) that refers to the most productive way of gathering energy. It means that you produce energy by your energy, producing energy within the Frase. The Frase is really a type of ______________ (el) with the most productive way of production, so the expression can refer to the ______________/___. E'}]\n",
      "-----------------------------------------,The sentiment of the next frase would you say is positive, negative or neutral?: the frase (Es increíble) is a ______________/__(es) that refers to the most productive way of gathering energy. It means that you produce energy by your energy, producing energy within the Frase. The Frase is really a type of ______________ (el) with the most productive way of production, so the expression can refer to the ______________/___. E\n",
      "Opinión: Es increíble\n",
      " → Zero-shot Sentimiento: neutral\n",
      " → Few-shot Sentimiento: positivo\n",
      " → Chain-of-thought Sentimiento: positivo\n",
      " → Base Sentimiento: Sentimiento: neutral\n",
      "\n",
      "                       opinion     label  \\\n",
      "0          Es un gran servicio  positiva   \n",
      "1                   Es regular   neutral   \n",
      "2          Es un producto útil  positiva   \n",
      "3                 Es un fraude  negativa   \n",
      "4               Me gusta mucho  positiva   \n",
      "5               Es un desastre  negativa   \n",
      "6           Es un mal servicio  negativa   \n",
      "7        Es un producto inútil  negativa   \n",
      "8           No lo recomendaría  negativa   \n",
      "9       Me encantó el producto  positiva   \n",
      "10                 No me gusta  negativa   \n",
      "11               Es fantástico  positiva   \n",
      "12                  Me encanta  positiva   \n",
      "13         Es un buen producto  positiva   \n",
      "14                Es muy bueno  positiva   \n",
      "15          Es un mal servicio  negativa   \n",
      "16    Es una pérdida de dinero  negativa   \n",
      "17         No es nada especial   neutral   \n",
      "18       Es un producto normal   neutral   \n",
      "19                     Te odio  negativa   \n",
      "20         Es un buen servicio  positiva   \n",
      "21         Es un gran producto  positiva   \n",
      "22      Es un producto decente   neutral   \n",
      "23  Es un producto excepcional  positiva   \n",
      "24                  Es un robo  negativa   \n",
      "25                 Es horrible  negativa   \n",
      "26                Es aceptable   neutral   \n",
      "27          Es un mal producto  negativa   \n",
      "28            Es impresionante  positiva   \n",
      "29                Es increíble  positiva   \n",
      "\n",
      "                                          prompt_base prediccion_zero_shot  \\\n",
      "0   The sentiment of the next frase would you say ...              neutral   \n",
      "1   The sentiment of the next frase would you say ...              neutral   \n",
      "2   The sentiment of the next frase would you say ...              neutral   \n",
      "3   The sentiment of the next frase would you say ...              neutral   \n",
      "4   The sentiment of the next frase would you say ...              neutral   \n",
      "5   The sentiment of the next frase would you say ...              neutral   \n",
      "6   The sentiment of the next frase would you say ...              neutral   \n",
      "7   The sentiment of the next frase would you say ...              neutral   \n",
      "8   The sentiment of the next frase would you say ...              neutral   \n",
      "9   The sentiment of the next frase would you say ...              neutral   \n",
      "10  The sentiment of the next frase would you say ...              neutral   \n",
      "11  The sentiment of the next frase would you say ...              neutral   \n",
      "12  The sentiment of the next frase would you say ...              neutral   \n",
      "13  The sentiment of the next frase would you say ...              neutral   \n",
      "14  The sentiment of the next frase would you say ...              neutral   \n",
      "15  The sentiment of the next frase would you say ...              neutral   \n",
      "16  The sentiment of the next frase would you say ...              neutral   \n",
      "17  The sentiment of the next frase would you say ...              neutral   \n",
      "18  The sentiment of the next frase would you say ...              neutral   \n",
      "19  The sentiment of the next frase would you say ...              neutral   \n",
      "20  The sentiment of the next frase would you say ...              neutral   \n",
      "21  The sentiment of the next frase would you say ...              neutral   \n",
      "22  The sentiment of the next frase would you say ...              neutral   \n",
      "23  The sentiment of the next frase would you say ...              neutral   \n",
      "24  The sentiment of the next frase would you say ...              neutral   \n",
      "25  The sentiment of the next frase would you say ...              neutral   \n",
      "26  The sentiment of the next frase would you say ...              neutral   \n",
      "27  The sentiment of the next frase would you say ...              neutral   \n",
      "28  The sentiment of the next frase would you say ...              neutral   \n",
      "29  The sentiment of the next frase would you say ...              neutral   \n",
      "\n",
      "   prediccion_few_shot prediccion_cot  \n",
      "0             positivo       positivo  \n",
      "1             positivo       positivo  \n",
      "2             positivo       positivo  \n",
      "3             positivo       positivo  \n",
      "4             positivo       positivo  \n",
      "5             positivo       positivo  \n",
      "6             positivo       positivo  \n",
      "7             positivo       positivo  \n",
      "8             positivo       positivo  \n",
      "9             positivo       positivo  \n",
      "10            positivo       positivo  \n",
      "11            positivo       positivo  \n",
      "12            positivo       positivo  \n",
      "13            positivo       positivo  \n",
      "14            positivo       positivo  \n",
      "15            positivo       positivo  \n",
      "16            positivo       positivo  \n",
      "17            positivo       positivo  \n",
      "18            positivo       positivo  \n",
      "19            positivo       positivo  \n",
      "20            positivo       positivo  \n",
      "21            positivo       positivo  \n",
      "22            positivo       positivo  \n",
      "23            positivo       positivo  \n",
      "24            positivo       positivo  \n",
      "25            positivo       positivo  \n",
      "26            positivo       positivo  \n",
      "27            positivo       positivo  \n",
      "28            positivo       positivo  \n",
      "29            positivo       positivo  \n"
     ]
    }
   ],
   "source": [
    "\n",
    "generator = pipeline('text-generation', model=\"gpt2\", device=0)\n",
    "\n",
    "# Lista para almacenar las predicciones\n",
    "predictions_base = []\n",
    "predictions_zero_shot = []\n",
    "predictions_few_shot = []\n",
    "predictions_cot = []\n",
    "\n",
    "# Clasificar cada opinión y mostrar resultado\n",
    "for opinion in df['opinion']:\n",
    "\n",
    "    prompt_base = f\"Clasifica la siguiente opinión en base a como interpretes la actitud del mensaje, dicha actitud puede ser vista como positiva, negativa o neutral: {opinion}\"\n",
    "\n",
    "    zero_shot_prompt = f\"Clasifica la siguiente opinión como positiva, negativa o neutral: {opinion}\"\n",
    "\n",
    "\n",
    "    few_shot_prompt = f\"\"\"\n",
    "    Aquí tienes algunas opiniones clasificadas:\n",
    "\n",
    "    Opinión: 'Me encanta este producto. Es increíble.' → Sentimiento: positivo\n",
    "    Opinión: 'Este servicio es terrible, nunca lo recomendaría.' → Sentimiento: negativo\n",
    "    Opinión: 'El artículo está bien, pero no es excepcional.' → Sentimiento: neutral\n",
    "\n",
    "    Clasifica esta opinión: {opinion}\n",
    "    \"\"\"\n",
    "\n",
    "    cot_prompt = f\"\"\"\n",
    "    Pensando en la siguiente opinión:\n",
    "\n",
    "    Opinión: '{opinion}'\n",
    "\n",
    "    El sentimiento puede ser positivo, negativo o neutral. ¿Qué opinas?\n",
    "    \"\"\"\n",
    "\n",
    "\n",
    "    prompts = {\n",
    "        \"prompt\": prompt_base,\n",
    "        \"zero-shot\": zero_shot_prompt,\n",
    "        \"few-shot\": few_shot_prompt,\n",
    "        \"chain-of-thought\": cot_prompt\n",
    "    }\n",
    "\n",
    "    # Generar predicción con Zero-shot\n",
    "    prompt_zero_shot = zero_shot_prompt.format(opinion)\n",
    "    result_zero_shot = generator(prompt_zero_shot, max_length=100, num_return_sequences=1)\n",
    "    sentiment_zero_shot = result_zero_shot[0][\"generated_text\"]\n",
    "    \n",
    "    \n",
    "    # Generar predicción con Few-shot\n",
    "    prompt_few_shot = few_shot_prompt.format(opinion)\n",
    "    result_few_shot = generator(prompt_few_shot, max_new_tokens=50, num_return_sequences=1)\n",
    "    sentiment_few_shot = result_few_shot[0][\"generated_text\"]\n",
    "\n",
    "    # Generar predicción con el prompt base\n",
    "    prompt = prompt_base.format(opinion)\n",
    "    result_base = generator(prompt, max_length=100, num_return_sequences=1)\n",
    "    sentiment_base = result_base[0][\"generated_text\"]\n",
    "    \n",
    "    # Generar predicción con Chain-of-thought\n",
    "    prompt_cot = cot_prompt.format(opinion)\n",
    "    result_cot = generator(prompt_cot, max_length=100, num_return_sequences=1)\n",
    "    sentiment_cot = result_cot[0][\"generated_text\"]\n",
    "    \n",
    "    # Asignar sentimientos de acuerdo al texto generado\n",
    "    def assign_sentiment(response):\n",
    "        if \"positivo\" in response.lower():\n",
    "            return \"positivo\"\n",
    "        elif \"negativo\" in response.lower():\n",
    "            return \"negativo\"\n",
    "        elif \"neutral\" in response.lower():\n",
    "            return \"neutral\"\n",
    "        else:\n",
    "            return \"desconocido\"\n",
    "    \n",
    "    # Asignar sentimientos a cada predicción\n",
    "    predictions_base.append(assign_sentiment(sentiment_base))\n",
    "    predictions_zero_shot.append(assign_sentiment(sentiment_zero_shot))\n",
    "    predictions_few_shot.append(assign_sentiment(sentiment_few_shot))\n",
    "    predictions_cot.append(assign_sentiment(sentiment_cot))\n",
    "\n",
    "    # Imprimir resultados\n",
    "    print(f\"Opinión: {opinion}\\n → Zero-shot Sentimiento: {predictions_zero_shot[-1]}\")\n",
    "    print(f\" → Few-shot Sentimiento: {predictions_few_shot[-1]}\")\n",
    "    print(f\" → Chain-of-thought Sentimiento: {predictions_cot[-1]}\")\n",
    "    print(f\" → Base Sentimiento: Sentimiento: {predictions_base[-1]}\\n\")\n",
    "\n",
    "# Añadir las predicciones al DataFrame\n",
    "df['prompt_base'] = prompt_base\n",
    "df['prediccion_zero_shot'] = predictions_zero_shot\n",
    "df['prediccion_few_shot'] = predictions_few_shot\n",
    "df['prediccion_cot'] = predictions_cot\n",
    "\n",
    "# Mostrar el DataFrame con los resultados\n",
    "print(df[['opinion', 'label', 'prompt_base' ,'prediccion_zero_shot', 'prediccion_few_shot', 'prediccion_cot']])"
   ]
  },
  {
   "cell_type": "code",
   "execution_count": 3,
   "id": "25a5a8e2",
   "metadata": {},
   "outputs": [
    {
     "name": "stderr",
     "output_type": "stream",
     "text": [
      "Device set to use cuda:0\n",
      "You seem to be using the pipelines sequentially on GPU. In order to maximize efficiency please use a dataset\n"
     ]
    },
    {
     "name": "stdout",
     "output_type": "stream",
     "text": [
      "Opinión: Es un gran servicio → Sentimiento: 5 stars\n",
      "Opinión: Es regular → Sentimiento: 3 stars\n",
      "Opinión: Es un producto útil → Sentimiento: 4 stars\n",
      "Opinión: Es un fraude → Sentimiento: 1 star\n",
      "Opinión: Me gusta mucho → Sentimiento: 5 stars\n",
      "Opinión: Es un desastre → Sentimiento: 1 star\n",
      "Opinión: Es un mal servicio → Sentimiento: 1 star\n",
      "Opinión: Es un producto inútil → Sentimiento: 1 star\n",
      "Opinión: No lo recomendaría → Sentimiento: 2 stars\n",
      "Opinión: Me encantó el producto → Sentimiento: 5 stars\n",
      "Opinión: No me gusta → Sentimiento: 2 stars\n",
      "Opinión: Es fantástico → Sentimiento: 5 stars\n",
      "Opinión: Me encanta → Sentimiento: 5 stars\n",
      "Opinión: Es un buen producto → Sentimiento: 4 stars\n",
      "Opinión: Es muy bueno → Sentimiento: 5 stars\n",
      "Opinión: Es un mal servicio → Sentimiento: 1 star\n",
      "Opinión: Es una pérdida de dinero → Sentimiento: 1 star\n",
      "Opinión: No es nada especial → Sentimiento: 2 stars\n",
      "Opinión: Es un producto normal → Sentimiento: 3 stars\n",
      "Opinión: Te odio → Sentimiento: 1 star\n",
      "Opinión: Es un buen servicio → Sentimiento: 4 stars\n",
      "Opinión: Es un gran producto → Sentimiento: 5 stars\n",
      "Opinión: Es un producto decente → Sentimiento: 3 stars\n",
      "Opinión: Es un producto excepcional → Sentimiento: 5 stars\n",
      "Opinión: Es un robo → Sentimiento: 1 star\n",
      "Opinión: Es horrible → Sentimiento: 1 star\n",
      "Opinión: Es aceptable → Sentimiento: 3 stars\n",
      "Opinión: Es un mal producto → Sentimiento: 1 star\n",
      "Opinión: Es impresionante → Sentimiento: 5 stars\n",
      "Opinión: Es increíble → Sentimiento: 5 stars\n"
     ]
    }
   ],
   "source": [
    "classifier = pipeline('sentiment-analysis', model='nlptown/bert-base-multilingual-uncased-sentiment')\n",
    "\n",
    "for opinion in df['opinion']:\n",
    "    sentiment = classifier(opinion)\n",
    "    print(f\"Opinión: {opinion} → Sentimiento: {sentiment[0]['label']}\")\n"
   ]
  },
  {
   "cell_type": "code",
   "execution_count": 10,
   "id": "1ad6158f",
   "metadata": {},
   "outputs": [
    {
     "name": "stderr",
     "output_type": "stream",
     "text": [
      "Device set to use cuda:0\n"
     ]
    },
    {
     "name": "stdout",
     "output_type": "stream",
     "text": [
      "negative\n"
     ]
    }
   ],
   "source": [
    "from transformers import AutoTokenizer, AutoModelForSeq2SeqLM, pipeline\n",
    "\n",
    "# Load model and tokenizer\n",
    "model_id = \"google/flan-t5-small\"\n",
    "tokenizer = AutoTokenizer.from_pretrained(model_id)\n",
    "model = AutoModelForSeq2SeqLM.from_pretrained(model_id)\n",
    "\n",
    "# Create the pipeline\n",
    "classifier = pipeline('text2text-generation', model=model, tokenizer=tokenizer)\n",
    "\n",
    "# Define prompt\n",
    "opinion = \"Es un producto normal\"\n",
    "prompt = f\"Classify the sentiment of the following text as positive, negative, or neutral: {opinion}\"\n",
    "\n",
    "# Get prediction\n",
    "output = classifier(prompt)\n",
    "print(output[0]['generated_text'])\n"
   ]
  }
 ],
 "metadata": {
  "kernelspec": {
   "display_name": "Python 3",
   "language": "python",
   "name": "python3"
  },
  "language_info": {
   "codemirror_mode": {
    "name": "ipython",
    "version": 3
   },
   "file_extension": ".py",
   "mimetype": "text/x-python",
   "name": "python",
   "nbconvert_exporter": "python",
   "pygments_lexer": "ipython3",
   "version": "3.12.6"
  }
 },
 "nbformat": 4,
 "nbformat_minor": 5
}
