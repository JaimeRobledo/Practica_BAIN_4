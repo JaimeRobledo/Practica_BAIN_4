{
 "cells": [
  {
   "cell_type": "code",
   "execution_count": 1,
   "id": "c7682b34",
   "metadata": {},
   "outputs": [
    {
     "name": "stderr",
     "output_type": "stream",
     "text": [
      "c:\\Users\\migue\\Documents\\GitHub\\Practica_BAIN_4\\.env\\Lib\\site-packages\\tqdm\\auto.py:21: TqdmWarning: IProgress not found. Please update jupyter and ipywidgets. See https://ipywidgets.readthedocs.io/en/stable/user_install.html\n",
      "  from .autonotebook import tqdm as notebook_tqdm\n"
     ]
    },
    {
     "name": "stdout",
     "output_type": "stream",
     "text": [
      "2.5.1+cu121\n",
      "True\n",
      "Torch disponible: True\n",
      "TensorFlow disponible: False\n"
     ]
    }
   ],
   "source": [
    "import pandas as pd\n",
    "from sklearn.metrics import classification_report\n",
    "from transformers import AutoTokenizer, AutoModelForCausalLM, pipeline,AutoModelForSeq2SeqLM\n",
    "\n",
    "import torch\n",
    "print(torch.__version__)\n",
    "print(torch.cuda.is_available())\n",
    "from transformers.utils import is_torch_available, is_tf_available\n",
    "\n",
    "print(\"Torch disponible:\", is_torch_available())\n",
    "print(\"TensorFlow disponible:\", is_tf_available())\n",
    "\n"
   ]
  },
  {
   "cell_type": "code",
   "execution_count": 2,
   "id": "fc1a9c03",
   "metadata": {},
   "outputs": [
    {
     "name": "stdout",
     "output_type": "stream",
     "text": [
      "                       opinion     label\n",
      "0          Es un gran servicio  positiva\n",
      "1                   Es regular   neutral\n",
      "2          Es un producto útil  positiva\n",
      "3                 Es un fraude  negativa\n",
      "4               Me gusta mucho  positiva\n",
      "5               Es un desastre  negativa\n",
      "6           Es un mal servicio  negativa\n",
      "7        Es un producto inútil  negativa\n",
      "8           No lo recomendaría  negativa\n",
      "9       Me encantó el producto  positiva\n",
      "10                 No me gusta  negativa\n",
      "11               Es fantástico  positiva\n",
      "12                  Me encanta  positiva\n",
      "13         Es un buen producto  positiva\n",
      "14                Es muy bueno  positiva\n",
      "15          Es un mal servicio  negativa\n",
      "16    Es una pérdida de dinero  negativa\n",
      "17         No es nada especial   neutral\n",
      "18       Es un producto normal   neutral\n",
      "19                     Te odio  negativa\n",
      "20         Es un buen servicio  positiva\n",
      "21         Es un gran producto  positiva\n",
      "22      Es un producto decente   neutral\n",
      "23  Es un producto excepcional  positiva\n",
      "24                  Es un robo  negativa\n",
      "25                 Es horrible  negativa\n",
      "26                Es aceptable   neutral\n",
      "27          Es un mal producto  negativa\n",
      "28            Es impresionante  positiva\n",
      "29                Es increíble  positiva\n"
     ]
    }
   ],
   "source": [
    "df = pd.read_csv('INPUT/emociones.csv')\n",
    "df = df[['opinion', 'label']]\n",
    "df = df.dropna()\n",
    "df = df.sample(30, random_state=42).reset_index(drop=True)\n",
    "print(df)\n"
   ]
  },
  {
   "cell_type": "code",
   "execution_count": null,
   "id": "83a967bf",
   "metadata": {},
   "outputs": [],
   "source": []
  },
  {
   "cell_type": "code",
   "execution_count": 3,
   "id": "12fac698",
   "metadata": {},
   "outputs": [
    {
     "name": "stderr",
     "output_type": "stream",
     "text": [
      "Device set to use cuda:0\n",
      "Truncation was not explicitly activated but `max_length` is provided a specific value, please use `truncation=True` to explicitly truncate examples to max length. Defaulting to 'longest_first' truncation strategy. If you encode pairs of sequences (GLUE-style) with the tokenizer you can select this strategy more precisely by providing a specific strategy to `truncation`.\n",
      "Setting `pad_token_id` to `eos_token_id`:50256 for open-end generation.\n",
      "Setting `pad_token_id` to `eos_token_id`:50256 for open-end generation.\n",
      "Setting `pad_token_id` to `eos_token_id`:50256 for open-end generation.\n",
      "Setting `pad_token_id` to `eos_token_id`:50256 for open-end generation.\n",
      "Setting `pad_token_id` to `eos_token_id`:50256 for open-end generation.\n"
     ]
    },
    {
     "name": "stdout",
     "output_type": "stream",
     "text": [
      "Opinión: Es un gran servicio - Label: positiva\n",
      " → Zero-shot Sentimiento: positiva\n",
      " → Few-shot Sentimiento: positiva\n",
      " → Chain-of-thought Sentimiento: positiva\n",
      " → Base Sentimiento: Sentimiento: positiva\n",
      "\n"
     ]
    },
    {
     "name": "stderr",
     "output_type": "stream",
     "text": [
      "Setting `pad_token_id` to `eos_token_id`:50256 for open-end generation.\n",
      "Setting `pad_token_id` to `eos_token_id`:50256 for open-end generation.\n",
      "Setting `pad_token_id` to `eos_token_id`:50256 for open-end generation.\n",
      "Setting `pad_token_id` to `eos_token_id`:50256 for open-end generation.\n"
     ]
    },
    {
     "name": "stdout",
     "output_type": "stream",
     "text": [
      "Opinión: Es regular - Label: neutral\n",
      " → Zero-shot Sentimiento: positiva\n",
      " → Few-shot Sentimiento: positiva\n",
      " → Chain-of-thought Sentimiento: positiva\n",
      " → Base Sentimiento: Sentimiento: positiva\n",
      "\n"
     ]
    },
    {
     "name": "stderr",
     "output_type": "stream",
     "text": [
      "Setting `pad_token_id` to `eos_token_id`:50256 for open-end generation.\n",
      "You seem to be using the pipelines sequentially on GPU. In order to maximize efficiency please use a dataset\n",
      "Setting `pad_token_id` to `eos_token_id`:50256 for open-end generation.\n",
      "Setting `pad_token_id` to `eos_token_id`:50256 for open-end generation.\n",
      "Setting `pad_token_id` to `eos_token_id`:50256 for open-end generation.\n"
     ]
    },
    {
     "name": "stdout",
     "output_type": "stream",
     "text": [
      "Opinión: Es un producto útil - Label: positiva\n",
      " → Zero-shot Sentimiento: positiva\n",
      " → Few-shot Sentimiento: positiva\n",
      " → Chain-of-thought Sentimiento: positiva\n",
      " → Base Sentimiento: Sentimiento: positiva\n",
      "\n"
     ]
    },
    {
     "name": "stderr",
     "output_type": "stream",
     "text": [
      "Setting `pad_token_id` to `eos_token_id`:50256 for open-end generation.\n",
      "Setting `pad_token_id` to `eos_token_id`:50256 for open-end generation.\n",
      "Setting `pad_token_id` to `eos_token_id`:50256 for open-end generation.\n",
      "Setting `pad_token_id` to `eos_token_id`:50256 for open-end generation.\n"
     ]
    },
    {
     "name": "stdout",
     "output_type": "stream",
     "text": [
      "Opinión: Es un fraude - Label: negativa\n",
      " → Zero-shot Sentimiento: positiva\n",
      " → Few-shot Sentimiento: positiva\n",
      " → Chain-of-thought Sentimiento: positiva\n",
      " → Base Sentimiento: Sentimiento: positiva\n",
      "\n"
     ]
    },
    {
     "name": "stderr",
     "output_type": "stream",
     "text": [
      "Setting `pad_token_id` to `eos_token_id`:50256 for open-end generation.\n",
      "Setting `pad_token_id` to `eos_token_id`:50256 for open-end generation.\n",
      "Setting `pad_token_id` to `eos_token_id`:50256 for open-end generation.\n",
      "Setting `pad_token_id` to `eos_token_id`:50256 for open-end generation.\n"
     ]
    },
    {
     "name": "stdout",
     "output_type": "stream",
     "text": [
      "Opinión: Me gusta mucho - Label: positiva\n",
      " → Zero-shot Sentimiento: positiva\n",
      " → Few-shot Sentimiento: positiva\n",
      " → Chain-of-thought Sentimiento: positiva\n",
      " → Base Sentimiento: Sentimiento: positiva\n",
      "\n"
     ]
    },
    {
     "name": "stderr",
     "output_type": "stream",
     "text": [
      "Setting `pad_token_id` to `eos_token_id`:50256 for open-end generation.\n",
      "Setting `pad_token_id` to `eos_token_id`:50256 for open-end generation.\n",
      "Setting `pad_token_id` to `eos_token_id`:50256 for open-end generation.\n",
      "Setting `pad_token_id` to `eos_token_id`:50256 for open-end generation.\n"
     ]
    },
    {
     "name": "stdout",
     "output_type": "stream",
     "text": [
      "Opinión: Es un desastre - Label: negativa\n",
      " → Zero-shot Sentimiento: positiva\n",
      " → Few-shot Sentimiento: positiva\n",
      " → Chain-of-thought Sentimiento: positiva\n",
      " → Base Sentimiento: Sentimiento: positiva\n",
      "\n"
     ]
    },
    {
     "name": "stderr",
     "output_type": "stream",
     "text": [
      "Setting `pad_token_id` to `eos_token_id`:50256 for open-end generation.\n",
      "Setting `pad_token_id` to `eos_token_id`:50256 for open-end generation.\n",
      "Setting `pad_token_id` to `eos_token_id`:50256 for open-end generation.\n",
      "Setting `pad_token_id` to `eos_token_id`:50256 for open-end generation.\n"
     ]
    },
    {
     "name": "stdout",
     "output_type": "stream",
     "text": [
      "Opinión: Es un mal servicio - Label: negativa\n",
      " → Zero-shot Sentimiento: positiva\n",
      " → Few-shot Sentimiento: positiva\n",
      " → Chain-of-thought Sentimiento: positiva\n",
      " → Base Sentimiento: Sentimiento: positiva\n",
      "\n"
     ]
    },
    {
     "name": "stderr",
     "output_type": "stream",
     "text": [
      "Setting `pad_token_id` to `eos_token_id`:50256 for open-end generation.\n",
      "Setting `pad_token_id` to `eos_token_id`:50256 for open-end generation.\n",
      "Setting `pad_token_id` to `eos_token_id`:50256 for open-end generation.\n",
      "Setting `pad_token_id` to `eos_token_id`:50256 for open-end generation.\n"
     ]
    },
    {
     "name": "stdout",
     "output_type": "stream",
     "text": [
      "Opinión: Es un producto inútil - Label: negativa\n",
      " → Zero-shot Sentimiento: positiva\n",
      " → Few-shot Sentimiento: positiva\n",
      " → Chain-of-thought Sentimiento: positiva\n",
      " → Base Sentimiento: Sentimiento: positiva\n",
      "\n"
     ]
    },
    {
     "name": "stderr",
     "output_type": "stream",
     "text": [
      "Setting `pad_token_id` to `eos_token_id`:50256 for open-end generation.\n",
      "Setting `pad_token_id` to `eos_token_id`:50256 for open-end generation.\n",
      "Setting `pad_token_id` to `eos_token_id`:50256 for open-end generation.\n",
      "Setting `pad_token_id` to `eos_token_id`:50256 for open-end generation.\n"
     ]
    },
    {
     "name": "stdout",
     "output_type": "stream",
     "text": [
      "Opinión: No lo recomendaría - Label: negativa\n",
      " → Zero-shot Sentimiento: positiva\n",
      " → Few-shot Sentimiento: positiva\n",
      " → Chain-of-thought Sentimiento: positiva\n",
      " → Base Sentimiento: Sentimiento: positiva\n",
      "\n"
     ]
    },
    {
     "name": "stderr",
     "output_type": "stream",
     "text": [
      "Setting `pad_token_id` to `eos_token_id`:50256 for open-end generation.\n",
      "Setting `pad_token_id` to `eos_token_id`:50256 for open-end generation.\n",
      "Setting `pad_token_id` to `eos_token_id`:50256 for open-end generation.\n",
      "Setting `pad_token_id` to `eos_token_id`:50256 for open-end generation.\n"
     ]
    },
    {
     "name": "stdout",
     "output_type": "stream",
     "text": [
      "Opinión: Me encantó el producto - Label: positiva\n",
      " → Zero-shot Sentimiento: positiva\n",
      " → Few-shot Sentimiento: positiva\n",
      " → Chain-of-thought Sentimiento: positiva\n",
      " → Base Sentimiento: Sentimiento: positiva\n",
      "\n"
     ]
    },
    {
     "name": "stderr",
     "output_type": "stream",
     "text": [
      "Setting `pad_token_id` to `eos_token_id`:50256 for open-end generation.\n",
      "Setting `pad_token_id` to `eos_token_id`:50256 for open-end generation.\n",
      "Setting `pad_token_id` to `eos_token_id`:50256 for open-end generation.\n",
      "Setting `pad_token_id` to `eos_token_id`:50256 for open-end generation.\n"
     ]
    },
    {
     "name": "stdout",
     "output_type": "stream",
     "text": [
      "Opinión: No me gusta - Label: negativa\n",
      " → Zero-shot Sentimiento: positiva\n",
      " → Few-shot Sentimiento: positiva\n",
      " → Chain-of-thought Sentimiento: positiva\n",
      " → Base Sentimiento: Sentimiento: positiva\n",
      "\n"
     ]
    },
    {
     "name": "stderr",
     "output_type": "stream",
     "text": [
      "Setting `pad_token_id` to `eos_token_id`:50256 for open-end generation.\n",
      "Setting `pad_token_id` to `eos_token_id`:50256 for open-end generation.\n",
      "Setting `pad_token_id` to `eos_token_id`:50256 for open-end generation.\n",
      "Setting `pad_token_id` to `eos_token_id`:50256 for open-end generation.\n"
     ]
    },
    {
     "name": "stdout",
     "output_type": "stream",
     "text": [
      "Opinión: Es fantástico - Label: positiva\n",
      " → Zero-shot Sentimiento: positiva\n",
      " → Few-shot Sentimiento: positiva\n",
      " → Chain-of-thought Sentimiento: positiva\n",
      " → Base Sentimiento: Sentimiento: positiva\n",
      "\n"
     ]
    },
    {
     "name": "stderr",
     "output_type": "stream",
     "text": [
      "Setting `pad_token_id` to `eos_token_id`:50256 for open-end generation.\n",
      "Setting `pad_token_id` to `eos_token_id`:50256 for open-end generation.\n",
      "Setting `pad_token_id` to `eos_token_id`:50256 for open-end generation.\n",
      "Setting `pad_token_id` to `eos_token_id`:50256 for open-end generation.\n"
     ]
    },
    {
     "name": "stdout",
     "output_type": "stream",
     "text": [
      "Opinión: Me encanta - Label: positiva\n",
      " → Zero-shot Sentimiento: positiva\n",
      " → Few-shot Sentimiento: positiva\n",
      " → Chain-of-thought Sentimiento: positiva\n",
      " → Base Sentimiento: Sentimiento: positiva\n",
      "\n"
     ]
    },
    {
     "name": "stderr",
     "output_type": "stream",
     "text": [
      "Setting `pad_token_id` to `eos_token_id`:50256 for open-end generation.\n",
      "Setting `pad_token_id` to `eos_token_id`:50256 for open-end generation.\n",
      "Setting `pad_token_id` to `eos_token_id`:50256 for open-end generation.\n",
      "Setting `pad_token_id` to `eos_token_id`:50256 for open-end generation.\n"
     ]
    },
    {
     "name": "stdout",
     "output_type": "stream",
     "text": [
      "Opinión: Es un buen producto - Label: positiva\n",
      " → Zero-shot Sentimiento: positiva\n",
      " → Few-shot Sentimiento: positiva\n",
      " → Chain-of-thought Sentimiento: positiva\n",
      " → Base Sentimiento: Sentimiento: positiva\n",
      "\n"
     ]
    },
    {
     "name": "stderr",
     "output_type": "stream",
     "text": [
      "Setting `pad_token_id` to `eos_token_id`:50256 for open-end generation.\n",
      "Setting `pad_token_id` to `eos_token_id`:50256 for open-end generation.\n",
      "Setting `pad_token_id` to `eos_token_id`:50256 for open-end generation.\n",
      "Setting `pad_token_id` to `eos_token_id`:50256 for open-end generation.\n"
     ]
    },
    {
     "name": "stdout",
     "output_type": "stream",
     "text": [
      "Opinión: Es muy bueno - Label: positiva\n",
      " → Zero-shot Sentimiento: positiva\n",
      " → Few-shot Sentimiento: positiva\n",
      " → Chain-of-thought Sentimiento: positiva\n",
      " → Base Sentimiento: Sentimiento: positiva\n",
      "\n"
     ]
    },
    {
     "name": "stderr",
     "output_type": "stream",
     "text": [
      "Setting `pad_token_id` to `eos_token_id`:50256 for open-end generation.\n",
      "Setting `pad_token_id` to `eos_token_id`:50256 for open-end generation.\n",
      "Setting `pad_token_id` to `eos_token_id`:50256 for open-end generation.\n",
      "Setting `pad_token_id` to `eos_token_id`:50256 for open-end generation.\n"
     ]
    },
    {
     "name": "stdout",
     "output_type": "stream",
     "text": [
      "Opinión: Es un mal servicio - Label: negativa\n",
      " → Zero-shot Sentimiento: positiva\n",
      " → Few-shot Sentimiento: positiva\n",
      " → Chain-of-thought Sentimiento: positiva\n",
      " → Base Sentimiento: Sentimiento: positiva\n",
      "\n"
     ]
    },
    {
     "name": "stderr",
     "output_type": "stream",
     "text": [
      "Setting `pad_token_id` to `eos_token_id`:50256 for open-end generation.\n",
      "Setting `pad_token_id` to `eos_token_id`:50256 for open-end generation.\n",
      "Setting `pad_token_id` to `eos_token_id`:50256 for open-end generation.\n",
      "Setting `pad_token_id` to `eos_token_id`:50256 for open-end generation.\n"
     ]
    },
    {
     "name": "stdout",
     "output_type": "stream",
     "text": [
      "Opinión: Es una pérdida de dinero - Label: negativa\n",
      " → Zero-shot Sentimiento: positiva\n",
      " → Few-shot Sentimiento: positiva\n",
      " → Chain-of-thought Sentimiento: positiva\n",
      " → Base Sentimiento: Sentimiento: positiva\n",
      "\n"
     ]
    },
    {
     "name": "stderr",
     "output_type": "stream",
     "text": [
      "Setting `pad_token_id` to `eos_token_id`:50256 for open-end generation.\n",
      "Setting `pad_token_id` to `eos_token_id`:50256 for open-end generation.\n",
      "Setting `pad_token_id` to `eos_token_id`:50256 for open-end generation.\n",
      "Setting `pad_token_id` to `eos_token_id`:50256 for open-end generation.\n"
     ]
    },
    {
     "name": "stdout",
     "output_type": "stream",
     "text": [
      "Opinión: No es nada especial - Label: neutral\n",
      " → Zero-shot Sentimiento: positiva\n",
      " → Few-shot Sentimiento: positiva\n",
      " → Chain-of-thought Sentimiento: positiva\n",
      " → Base Sentimiento: Sentimiento: positiva\n",
      "\n"
     ]
    },
    {
     "name": "stderr",
     "output_type": "stream",
     "text": [
      "Setting `pad_token_id` to `eos_token_id`:50256 for open-end generation.\n",
      "Setting `pad_token_id` to `eos_token_id`:50256 for open-end generation.\n",
      "Setting `pad_token_id` to `eos_token_id`:50256 for open-end generation.\n",
      "Setting `pad_token_id` to `eos_token_id`:50256 for open-end generation.\n"
     ]
    },
    {
     "name": "stdout",
     "output_type": "stream",
     "text": [
      "Opinión: Es un producto normal - Label: neutral\n",
      " → Zero-shot Sentimiento: positiva\n",
      " → Few-shot Sentimiento: positiva\n",
      " → Chain-of-thought Sentimiento: positiva\n",
      " → Base Sentimiento: Sentimiento: positiva\n",
      "\n"
     ]
    },
    {
     "name": "stderr",
     "output_type": "stream",
     "text": [
      "Setting `pad_token_id` to `eos_token_id`:50256 for open-end generation.\n",
      "Setting `pad_token_id` to `eos_token_id`:50256 for open-end generation.\n",
      "Setting `pad_token_id` to `eos_token_id`:50256 for open-end generation.\n",
      "Setting `pad_token_id` to `eos_token_id`:50256 for open-end generation.\n"
     ]
    },
    {
     "name": "stdout",
     "output_type": "stream",
     "text": [
      "Opinión: Te odio - Label: negativa\n",
      " → Zero-shot Sentimiento: positiva\n",
      " → Few-shot Sentimiento: positiva\n",
      " → Chain-of-thought Sentimiento: positiva\n",
      " → Base Sentimiento: Sentimiento: positiva\n",
      "\n"
     ]
    },
    {
     "name": "stderr",
     "output_type": "stream",
     "text": [
      "Setting `pad_token_id` to `eos_token_id`:50256 for open-end generation.\n",
      "Setting `pad_token_id` to `eos_token_id`:50256 for open-end generation.\n",
      "Setting `pad_token_id` to `eos_token_id`:50256 for open-end generation.\n",
      "Setting `pad_token_id` to `eos_token_id`:50256 for open-end generation.\n"
     ]
    },
    {
     "name": "stdout",
     "output_type": "stream",
     "text": [
      "Opinión: Es un buen servicio - Label: positiva\n",
      " → Zero-shot Sentimiento: positiva\n",
      " → Few-shot Sentimiento: positiva\n",
      " → Chain-of-thought Sentimiento: positiva\n",
      " → Base Sentimiento: Sentimiento: positiva\n",
      "\n"
     ]
    },
    {
     "name": "stderr",
     "output_type": "stream",
     "text": [
      "Setting `pad_token_id` to `eos_token_id`:50256 for open-end generation.\n",
      "Setting `pad_token_id` to `eos_token_id`:50256 for open-end generation.\n",
      "Setting `pad_token_id` to `eos_token_id`:50256 for open-end generation.\n",
      "Setting `pad_token_id` to `eos_token_id`:50256 for open-end generation.\n"
     ]
    },
    {
     "name": "stdout",
     "output_type": "stream",
     "text": [
      "Opinión: Es un gran producto - Label: positiva\n",
      " → Zero-shot Sentimiento: positiva\n",
      " → Few-shot Sentimiento: positiva\n",
      " → Chain-of-thought Sentimiento: positiva\n",
      " → Base Sentimiento: Sentimiento: positiva\n",
      "\n"
     ]
    },
    {
     "name": "stderr",
     "output_type": "stream",
     "text": [
      "Setting `pad_token_id` to `eos_token_id`:50256 for open-end generation.\n",
      "Setting `pad_token_id` to `eos_token_id`:50256 for open-end generation.\n",
      "Setting `pad_token_id` to `eos_token_id`:50256 for open-end generation.\n",
      "Setting `pad_token_id` to `eos_token_id`:50256 for open-end generation.\n"
     ]
    },
    {
     "name": "stdout",
     "output_type": "stream",
     "text": [
      "Opinión: Es un producto decente - Label: neutral\n",
      " → Zero-shot Sentimiento: positiva\n",
      " → Few-shot Sentimiento: positiva\n",
      " → Chain-of-thought Sentimiento: positiva\n",
      " → Base Sentimiento: Sentimiento: positiva\n",
      "\n"
     ]
    },
    {
     "name": "stderr",
     "output_type": "stream",
     "text": [
      "Setting `pad_token_id` to `eos_token_id`:50256 for open-end generation.\n",
      "Setting `pad_token_id` to `eos_token_id`:50256 for open-end generation.\n",
      "Setting `pad_token_id` to `eos_token_id`:50256 for open-end generation.\n",
      "Setting `pad_token_id` to `eos_token_id`:50256 for open-end generation.\n"
     ]
    },
    {
     "name": "stdout",
     "output_type": "stream",
     "text": [
      "Opinión: Es un producto excepcional - Label: positiva\n",
      " → Zero-shot Sentimiento: positiva\n",
      " → Few-shot Sentimiento: positiva\n",
      " → Chain-of-thought Sentimiento: positiva\n",
      " → Base Sentimiento: Sentimiento: positiva\n",
      "\n"
     ]
    },
    {
     "name": "stderr",
     "output_type": "stream",
     "text": [
      "Setting `pad_token_id` to `eos_token_id`:50256 for open-end generation.\n",
      "Setting `pad_token_id` to `eos_token_id`:50256 for open-end generation.\n",
      "Setting `pad_token_id` to `eos_token_id`:50256 for open-end generation.\n",
      "Setting `pad_token_id` to `eos_token_id`:50256 for open-end generation.\n"
     ]
    },
    {
     "name": "stdout",
     "output_type": "stream",
     "text": [
      "Opinión: Es un robo - Label: negativa\n",
      " → Zero-shot Sentimiento: positiva\n",
      " → Few-shot Sentimiento: positiva\n",
      " → Chain-of-thought Sentimiento: positiva\n",
      " → Base Sentimiento: Sentimiento: positiva\n",
      "\n"
     ]
    },
    {
     "name": "stderr",
     "output_type": "stream",
     "text": [
      "Setting `pad_token_id` to `eos_token_id`:50256 for open-end generation.\n",
      "Setting `pad_token_id` to `eos_token_id`:50256 for open-end generation.\n",
      "Setting `pad_token_id` to `eos_token_id`:50256 for open-end generation.\n",
      "Setting `pad_token_id` to `eos_token_id`:50256 for open-end generation.\n"
     ]
    },
    {
     "name": "stdout",
     "output_type": "stream",
     "text": [
      "Opinión: Es horrible - Label: negativa\n",
      " → Zero-shot Sentimiento: positiva\n",
      " → Few-shot Sentimiento: positiva\n",
      " → Chain-of-thought Sentimiento: positiva\n",
      " → Base Sentimiento: Sentimiento: positiva\n",
      "\n"
     ]
    },
    {
     "name": "stderr",
     "output_type": "stream",
     "text": [
      "Setting `pad_token_id` to `eos_token_id`:50256 for open-end generation.\n",
      "Setting `pad_token_id` to `eos_token_id`:50256 for open-end generation.\n",
      "Setting `pad_token_id` to `eos_token_id`:50256 for open-end generation.\n",
      "Setting `pad_token_id` to `eos_token_id`:50256 for open-end generation.\n"
     ]
    },
    {
     "name": "stdout",
     "output_type": "stream",
     "text": [
      "Opinión: Es aceptable - Label: neutral\n",
      " → Zero-shot Sentimiento: positiva\n",
      " → Few-shot Sentimiento: positiva\n",
      " → Chain-of-thought Sentimiento: positiva\n",
      " → Base Sentimiento: Sentimiento: positiva\n",
      "\n"
     ]
    },
    {
     "name": "stderr",
     "output_type": "stream",
     "text": [
      "Setting `pad_token_id` to `eos_token_id`:50256 for open-end generation.\n",
      "Setting `pad_token_id` to `eos_token_id`:50256 for open-end generation.\n",
      "Setting `pad_token_id` to `eos_token_id`:50256 for open-end generation.\n",
      "Setting `pad_token_id` to `eos_token_id`:50256 for open-end generation.\n"
     ]
    },
    {
     "name": "stdout",
     "output_type": "stream",
     "text": [
      "Opinión: Es un mal producto - Label: negativa\n",
      " → Zero-shot Sentimiento: positiva\n",
      " → Few-shot Sentimiento: positiva\n",
      " → Chain-of-thought Sentimiento: positiva\n",
      " → Base Sentimiento: Sentimiento: positiva\n",
      "\n"
     ]
    },
    {
     "name": "stderr",
     "output_type": "stream",
     "text": [
      "Setting `pad_token_id` to `eos_token_id`:50256 for open-end generation.\n",
      "Setting `pad_token_id` to `eos_token_id`:50256 for open-end generation.\n",
      "Setting `pad_token_id` to `eos_token_id`:50256 for open-end generation.\n",
      "Setting `pad_token_id` to `eos_token_id`:50256 for open-end generation.\n"
     ]
    },
    {
     "name": "stdout",
     "output_type": "stream",
     "text": [
      "Opinión: Es impresionante - Label: positiva\n",
      " → Zero-shot Sentimiento: positiva\n",
      " → Few-shot Sentimiento: positiva\n",
      " → Chain-of-thought Sentimiento: positiva\n",
      " → Base Sentimiento: Sentimiento: positiva\n",
      "\n"
     ]
    },
    {
     "name": "stderr",
     "output_type": "stream",
     "text": [
      "Setting `pad_token_id` to `eos_token_id`:50256 for open-end generation.\n",
      "Setting `pad_token_id` to `eos_token_id`:50256 for open-end generation.\n",
      "Setting `pad_token_id` to `eos_token_id`:50256 for open-end generation.\n"
     ]
    },
    {
     "name": "stdout",
     "output_type": "stream",
     "text": [
      "Opinión: Es increíble - Label: positiva\n",
      " → Zero-shot Sentimiento: positiva\n",
      " → Few-shot Sentimiento: positiva\n",
      " → Chain-of-thought Sentimiento: positiva\n",
      " → Base Sentimiento: Sentimiento: positiva\n",
      "\n",
      "                       opinion     label  \\\n",
      "0          Es un gran servicio  positiva   \n",
      "1                   Es regular   neutral   \n",
      "2          Es un producto útil  positiva   \n",
      "3                 Es un fraude  negativa   \n",
      "4               Me gusta mucho  positiva   \n",
      "5               Es un desastre  negativa   \n",
      "6           Es un mal servicio  negativa   \n",
      "7        Es un producto inútil  negativa   \n",
      "8           No lo recomendaría  negativa   \n",
      "9       Me encantó el producto  positiva   \n",
      "10                 No me gusta  negativa   \n",
      "11               Es fantástico  positiva   \n",
      "12                  Me encanta  positiva   \n",
      "13         Es un buen producto  positiva   \n",
      "14                Es muy bueno  positiva   \n",
      "15          Es un mal servicio  negativa   \n",
      "16    Es una pérdida de dinero  negativa   \n",
      "17         No es nada especial   neutral   \n",
      "18       Es un producto normal   neutral   \n",
      "19                     Te odio  negativa   \n",
      "20         Es un buen servicio  positiva   \n",
      "21         Es un gran producto  positiva   \n",
      "22      Es un producto decente   neutral   \n",
      "23  Es un producto excepcional  positiva   \n",
      "24                  Es un robo  negativa   \n",
      "25                 Es horrible  negativa   \n",
      "26                Es aceptable   neutral   \n",
      "27          Es un mal producto  negativa   \n",
      "28            Es impresionante  positiva   \n",
      "29                Es increíble  positiva   \n",
      "\n",
      "                                          prompt_base prediccion_zero_shot  \\\n",
      "0   Clasifica la siguiente opinión en base a como ...             positiva   \n",
      "1   Clasifica la siguiente opinión en base a como ...             positiva   \n",
      "2   Clasifica la siguiente opinión en base a como ...             positiva   \n",
      "3   Clasifica la siguiente opinión en base a como ...             positiva   \n",
      "4   Clasifica la siguiente opinión en base a como ...             positiva   \n",
      "5   Clasifica la siguiente opinión en base a como ...             positiva   \n",
      "6   Clasifica la siguiente opinión en base a como ...             positiva   \n",
      "7   Clasifica la siguiente opinión en base a como ...             positiva   \n",
      "8   Clasifica la siguiente opinión en base a como ...             positiva   \n",
      "9   Clasifica la siguiente opinión en base a como ...             positiva   \n",
      "10  Clasifica la siguiente opinión en base a como ...             positiva   \n",
      "11  Clasifica la siguiente opinión en base a como ...             positiva   \n",
      "12  Clasifica la siguiente opinión en base a como ...             positiva   \n",
      "13  Clasifica la siguiente opinión en base a como ...             positiva   \n",
      "14  Clasifica la siguiente opinión en base a como ...             positiva   \n",
      "15  Clasifica la siguiente opinión en base a como ...             positiva   \n",
      "16  Clasifica la siguiente opinión en base a como ...             positiva   \n",
      "17  Clasifica la siguiente opinión en base a como ...             positiva   \n",
      "18  Clasifica la siguiente opinión en base a como ...             positiva   \n",
      "19  Clasifica la siguiente opinión en base a como ...             positiva   \n",
      "20  Clasifica la siguiente opinión en base a como ...             positiva   \n",
      "21  Clasifica la siguiente opinión en base a como ...             positiva   \n",
      "22  Clasifica la siguiente opinión en base a como ...             positiva   \n",
      "23  Clasifica la siguiente opinión en base a como ...             positiva   \n",
      "24  Clasifica la siguiente opinión en base a como ...             positiva   \n",
      "25  Clasifica la siguiente opinión en base a como ...             positiva   \n",
      "26  Clasifica la siguiente opinión en base a como ...             positiva   \n",
      "27  Clasifica la siguiente opinión en base a como ...             positiva   \n",
      "28  Clasifica la siguiente opinión en base a como ...             positiva   \n",
      "29  Clasifica la siguiente opinión en base a como ...             positiva   \n",
      "\n",
      "   prediccion_few_shot prediccion_cot  \n",
      "0             positiva       positiva  \n",
      "1             positiva       positiva  \n",
      "2             positiva       positiva  \n",
      "3             positiva       positiva  \n",
      "4             positiva       positiva  \n",
      "5             positiva       positiva  \n",
      "6             positiva       positiva  \n",
      "7             positiva       positiva  \n",
      "8             positiva       positiva  \n",
      "9             positiva       positiva  \n",
      "10            positiva       positiva  \n",
      "11            positiva       positiva  \n",
      "12            positiva       positiva  \n",
      "13            positiva       positiva  \n",
      "14            positiva       positiva  \n",
      "15            positiva       positiva  \n",
      "16            positiva       positiva  \n",
      "17            positiva       positiva  \n",
      "18            positiva       positiva  \n",
      "19            positiva       positiva  \n",
      "20            positiva       positiva  \n",
      "21            positiva       positiva  \n",
      "22            positiva       positiva  \n",
      "23            positiva       positiva  \n",
      "24            positiva       positiva  \n",
      "25            positiva       positiva  \n",
      "26            positiva       positiva  \n",
      "27            positiva       positiva  \n",
      "28            positiva       positiva  \n",
      "29            positiva       positiva  \n"
     ]
    }
   ],
   "source": [
    "\n",
    "generator = pipeline('text-generation', model=\"gpt2\", device=0)\n",
    "\n",
    "# Lista para almacenar las predicciones\n",
    "predictions_base = []\n",
    "predictions_zero_shot = []\n",
    "predictions_few_shot = []\n",
    "predictions_cot = []\n",
    "\n",
    "# Clasificar cada opinión y mostrar resultado\n",
    "for row in df.itertuples():\n",
    "    opinion = row.opinion\n",
    "    label = row.label\n",
    "\n",
    "    prompt_base = f\"Clasifica la siguiente opinión en base a como interpretes la actitud del mensaje, dicha actitud puede ser vista como positiva, negativa o neutral: {opinion}\"\n",
    "\n",
    "    zero_shot_prompt = f\"Clasifica la siguiente opinión como positiva, negativa o neutral: {opinion}\"\n",
    "\n",
    "\n",
    "    few_shot_prompt = f\"\"\"\n",
    "    Aquí tienes algunas opiniones clasificadas:\n",
    "\n",
    "    Opinión: 'Me encanta este producto. Es increíble.' → Sentimiento: positivo\n",
    "    Opinión: 'Este servicio es terrible, nunca lo recomendaría.' → Sentimiento: negativo\n",
    "    Opinión: 'El artículo está bien, pero no es excepcional.' → Sentimiento: neutral\n",
    "\n",
    "    Clasifica esta opinión: {opinion}\n",
    "    \"\"\"\n",
    "\n",
    "    cot_prompt = f\"\"\"\n",
    "    Pensando en la siguiente opinión:\n",
    "\n",
    "    Opinión: '{opinion}'\n",
    "\n",
    "    El sentimiento puede ser positivo, negativo o neutral. ¿Qué opinas?\n",
    "    \"\"\"\n",
    "\n",
    "\n",
    "    prompts = {\n",
    "        \"prompt\": prompt_base,\n",
    "        \"zero-shot\": zero_shot_prompt,\n",
    "        \"few-shot\": few_shot_prompt,\n",
    "        \"chain-of-thought\": cot_prompt\n",
    "    }\n",
    "\n",
    "    # Generar predicción con Zero-shot\n",
    "    prompt_zero_shot = zero_shot_prompt.format(opinion)\n",
    "    result_zero_shot = generator(prompt_zero_shot, max_length=100, num_return_sequences=1)\n",
    "    sentiment_zero_shot = result_zero_shot[0][\"generated_text\"]\n",
    "    \n",
    "    \n",
    "    # Generar predicción con Few-shot\n",
    "    prompt_few_shot = few_shot_prompt.format(opinion)\n",
    "    result_few_shot = generator(prompt_few_shot, max_new_tokens=50, num_return_sequences=1)\n",
    "    sentiment_few_shot = result_few_shot[0][\"generated_text\"]\n",
    "\n",
    "    # Generar predicción con el prompt base\n",
    "    prompt = prompt_base.format(opinion)\n",
    "    result_base = generator(prompt, max_length=100, num_return_sequences=1)\n",
    "    sentiment_base = result_base[0][\"generated_text\"]\n",
    "    \n",
    "    # Generar predicción con Chain-of-thought\n",
    "    prompt_cot = cot_prompt.format(opinion)\n",
    "    result_cot = generator(prompt_cot, max_length=100, num_return_sequences=1)\n",
    "    sentiment_cot = result_cot[0][\"generated_text\"]\n",
    "    \n",
    "    # Asignar sentimientos de acuerdo al texto generado\n",
    "    def assign_sentiment(response):\n",
    "        normalized_response = response.lower().strip()\n",
    "\n",
    "        palabras_positivas = [\"positivo\", \"positiva\", \"positive\"]\n",
    "        palabras_negativas = [\"negativo\", \"negativa\", \"negative\"]\n",
    "        palabras_neutras = [\"neutral\", \"neutro\", \"neutra\"]\n",
    "\n",
    "        if any(word in normalized_response for word in palabras_positivas):\n",
    "            return \"positiva\"\n",
    "        elif any(word in normalized_response for word in palabras_negativas):\n",
    "            return \"negativa\"\n",
    "        elif any(word in normalized_response for word in palabras_neutras):\n",
    "            return \"neutral\"\n",
    "        else:\n",
    "            return \"desconocida\"\n",
    "    \n",
    "    # Asignar sentimientos a cada predicción\n",
    "    predictions_base.append(assign_sentiment(sentiment_base))\n",
    "    predictions_zero_shot.append(assign_sentiment(sentiment_zero_shot))\n",
    "    predictions_few_shot.append(assign_sentiment(sentiment_few_shot))\n",
    "    predictions_cot.append(assign_sentiment(sentiment_cot))\n",
    "\n",
    "    # Imprimir resultados\n",
    "    print(f\"Opinión: {opinion} - Label: {label}\\n → Zero-shot Sentimiento: {predictions_zero_shot[-1]}\")\n",
    "    print(f\" → Few-shot Sentimiento: {predictions_few_shot[-1]}\")\n",
    "    print(f\" → Chain-of-thought Sentimiento: {predictions_cot[-1]}\")\n",
    "    print(f\" → Base Sentimiento: Sentimiento: {predictions_base[-1]}\\n\")\n",
    "\n",
    "# Añadir las predicciones al DataFrame\n",
    "df['prompt_base'] = prompt_base\n",
    "df['prediccion_zero_shot'] = predictions_zero_shot\n",
    "df['prediccion_few_shot'] = predictions_few_shot\n",
    "df['prediccion_cot'] = predictions_cot\n",
    "\n",
    "# Mostrar el DataFrame con los resultados\n",
    "print(df[['opinion', 'label', 'prompt_base' ,'prediccion_zero_shot', 'prediccion_few_shot', 'prediccion_cot']])"
   ]
  },
  {
   "cell_type": "code",
   "execution_count": 4,
   "id": "25a5a8e2",
   "metadata": {},
   "outputs": [
    {
     "name": "stderr",
     "output_type": "stream",
     "text": [
      "Device set to use cuda:0\n"
     ]
    },
    {
     "name": "stdout",
     "output_type": "stream",
     "text": [
      "Opinión: Es un gran servicio → Sentimiento: 5 stars\n",
      "Opinión: Es regular → Sentimiento: 3 stars\n",
      "Opinión: Es un producto útil → Sentimiento: 4 stars\n",
      "Opinión: Es un fraude → Sentimiento: 1 star\n",
      "Opinión: Me gusta mucho → Sentimiento: 5 stars\n",
      "Opinión: Es un desastre → Sentimiento: 1 star\n",
      "Opinión: Es un mal servicio → Sentimiento: 1 star\n",
      "Opinión: Es un producto inútil → Sentimiento: 1 star\n",
      "Opinión: No lo recomendaría → Sentimiento: 2 stars\n",
      "Opinión: Me encantó el producto → Sentimiento: 5 stars\n",
      "Opinión: No me gusta → Sentimiento: 2 stars\n",
      "Opinión: Es fantástico → Sentimiento: 5 stars\n",
      "Opinión: Me encanta → Sentimiento: 5 stars\n",
      "Opinión: Es un buen producto → Sentimiento: 4 stars\n",
      "Opinión: Es muy bueno → Sentimiento: 5 stars\n",
      "Opinión: Es un mal servicio → Sentimiento: 1 star\n",
      "Opinión: Es una pérdida de dinero → Sentimiento: 1 star\n",
      "Opinión: No es nada especial → Sentimiento: 2 stars\n",
      "Opinión: Es un producto normal → Sentimiento: 3 stars\n",
      "Opinión: Te odio → Sentimiento: 1 star\n",
      "Opinión: Es un buen servicio → Sentimiento: 4 stars\n",
      "Opinión: Es un gran producto → Sentimiento: 5 stars\n",
      "Opinión: Es un producto decente → Sentimiento: 3 stars\n",
      "Opinión: Es un producto excepcional → Sentimiento: 5 stars\n",
      "Opinión: Es un robo → Sentimiento: 1 star\n",
      "Opinión: Es horrible → Sentimiento: 1 star\n",
      "Opinión: Es aceptable → Sentimiento: 3 stars\n",
      "Opinión: Es un mal producto → Sentimiento: 1 star\n",
      "Opinión: Es impresionante → Sentimiento: 5 stars\n",
      "Opinión: Es increíble → Sentimiento: 5 stars\n"
     ]
    }
   ],
   "source": [
    "classifier = pipeline('sentiment-analysis', model='nlptown/bert-base-multilingual-uncased-sentiment')\n",
    "\n",
    "for opinion in df['opinion']:\n",
    "    sentiment = classifier(opinion)\n",
    "    print(f\"Opinión: {opinion} → Sentimiento: {sentiment[0]['label']}\")\n"
   ]
  },
  {
   "cell_type": "code",
   "execution_count": 5,
   "id": "1ad6158f",
   "metadata": {},
   "outputs": [
    {
     "name": "stderr",
     "output_type": "stream",
     "text": [
      "Device set to use cuda:0\n"
     ]
    },
    {
     "name": "stdout",
     "output_type": "stream",
     "text": [
      "negative\n"
     ]
    }
   ],
   "source": [
    "from transformers import AutoTokenizer, AutoModelForSeq2SeqLM, pipeline\n",
    "\n",
    "# Load model and tokenizer\n",
    "model_id = \"google/flan-t5-small\"\n",
    "tokenizer = AutoTokenizer.from_pretrained(model_id)\n",
    "model = AutoModelForSeq2SeqLM.from_pretrained(model_id)\n",
    "\n",
    "# Create the pipeline\n",
    "classifier = pipeline('text2text-generation', model=model, tokenizer=tokenizer)\n",
    "\n",
    "# Define prompt\n",
    "opinion = \"Es un producto normal\"\n",
    "prompt = f\"Classify the sentiment of the following text as positive, negative, or neutral: {opinion}\"\n",
    "\n",
    "# Get prediction\n",
    "output = classifier(prompt)\n",
    "print(output[0]['generated_text'])\n"
   ]
  },
  {
   "cell_type": "markdown",
   "id": "d1710325",
   "metadata": {},
   "source": [
    "**Análisis de aciertos por prompt**"
   ]
  },
  {
   "cell_type": "code",
   "execution_count": 6,
   "id": "c17b594a",
   "metadata": {},
   "outputs": [
    {
     "name": "stdout",
     "output_type": "stream",
     "text": [
      "Aciertos con la prompt base: 13 - Ratio: 0.43\n",
      "Aciertos con la prompt zero shot: 13 - Ratio: 0.43\n",
      "Aciertos con la prompt few shots: 13- Ratio: 0.43\n",
      "Aciertos con la prompt chain of thought: 13 - Ratio: 0.43\n"
     ]
    }
   ],
   "source": [
    "aciertos_df = pd.DataFrame({\n",
    "    'prompt_base': predictions_base,\n",
    "    'zero_shot': predictions_zero_shot,\n",
    "    'few_shot': predictions_few_shot,\n",
    "    'chain_of_thought': predictions_cot\n",
    "})\n",
    "\n",
    "aciertos = {\n",
    "    'prompt_base': (aciertos_df['prompt_base'] == df['label']).sum(),\n",
    "    'zero_shot': (aciertos_df['zero_shot'] == df['label']).sum(),\n",
    "    'few_shot': (aciertos_df['few_shot'] == df['label']).sum(),\n",
    "    'chain_of_thought': (aciertos_df['chain_of_thought'] == df['label']).sum()\n",
    "}\n",
    "\n",
    "print(f\"Aciertos con la prompt base: {aciertos['prompt_base']} - Ratio: {aciertos['prompt_base'] / len(aciertos_df):.2f}\")\n",
    "print(f\"Aciertos con la prompt zero shot: {aciertos['zero_shot']} - Ratio: {aciertos['zero_shot'] / len(aciertos_df):.2f}\")\n",
    "print(f\"Aciertos con la prompt few shots: {aciertos['few_shot']}- Ratio: {aciertos['few_shot'] / len(aciertos_df):.2f}\")\n",
    "print(f\"Aciertos con la prompt chain of thought: {aciertos['chain_of_thought']} - Ratio: {aciertos['chain_of_thought'] / len(aciertos_df):.2f}\")"
   ]
  }
 ],
 "metadata": {
  "kernelspec": {
   "display_name": ".env",
   "language": "python",
   "name": "python3"
  },
  "language_info": {
   "codemirror_mode": {
    "name": "ipython",
    "version": 3
   },
   "file_extension": ".py",
   "mimetype": "text/x-python",
   "name": "python",
   "nbconvert_exporter": "python",
   "pygments_lexer": "ipython3",
   "version": "3.12.5"
  }
 },
 "nbformat": 4,
 "nbformat_minor": 5
}
