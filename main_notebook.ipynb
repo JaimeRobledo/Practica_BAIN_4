{
 "cells": [
  {
   "cell_type": "code",
   "execution_count": null,
   "id": "1807f23c",
   "metadata": {},
   "outputs": [],
   "source": [
    "import pandas as pd\n",
    "from sklearn.metrics import classification_report\n",
    "import openai\n",
    "from transformers import pipeline"
   ]
  },
  {
   "cell_type": "code",
   "execution_count": 1,
   "id": "45eb610e",
   "metadata": {},
   "outputs": [
    {
     "ename": "NameError",
     "evalue": "name 'pd' is not defined",
     "output_type": "error",
     "traceback": [
      "\u001b[1;31m---------------------------------------------------------------------------\u001b[0m",
      "\u001b[1;31mNameError\u001b[0m                                 Traceback (most recent call last)",
      "Cell \u001b[1;32mIn[1], line 1\u001b[0m\n\u001b[1;32m----> 1\u001b[0m df \u001b[38;5;241m=\u001b[39m \u001b[43mpd\u001b[49m\u001b[38;5;241m.\u001b[39mread_csv(\u001b[38;5;124m'\u001b[39m\u001b[38;5;124mINPUT/emociones.csv\u001b[39m\u001b[38;5;124m'\u001b[39m)\n\u001b[0;32m      2\u001b[0m df \u001b[38;5;241m=\u001b[39m df[[\u001b[38;5;124m'\u001b[39m\u001b[38;5;124mopinion\u001b[39m\u001b[38;5;124m'\u001b[39m, \u001b[38;5;124m'\u001b[39m\u001b[38;5;124mlabel\u001b[39m\u001b[38;5;124m'\u001b[39m]]\n\u001b[0;32m      3\u001b[0m df \u001b[38;5;241m=\u001b[39m df\u001b[38;5;241m.\u001b[39mdropna()\n",
      "\u001b[1;31mNameError\u001b[0m: name 'pd' is not defined"
     ]
    }
   ],
   "source": [
    "df = pd.read_csv('INPUT/emociones.csv')\n",
    "df = df[['opinion', 'label']]\n",
    "df = df.dropna()\n",
    "df = df.sample(30, random_state=42).reset_index(drop=True)\n",
    "print(df)\n"
   ]
  },
  {
   "cell_type": "code",
   "execution_count": null,
   "id": "f8e2123e",
   "metadata": {},
   "outputs": [],
   "source": [
    "zero_shot_prompt = \"\"\"Clasifica el sentimiento del siguiente texto como positivo, negativo o neutral:\n",
    "\n",
    "\"{}\"\n",
    "\"\"\"\n",
    "\n",
    "few_shot_prompt = \"\"\"Clasifica el sentimiento del siguiente texto como positivo, negativo o neutral.\n",
    "Ejemplo 1: \\\"Me encantó la película\\\" → positivo\n",
    "Ejemplo 2: \\\"No me gustó para nada\\\" → negativo\n",
    "Ejemplo 3: \\\"Está bien, sin más\\\" → neutral\n",
    "Texto: \"{}\"\n",
    "Respuesta:\"\"\"\n",
    "\n",
    "cot_prompt = \"\"\"Analiza el siguiente texto y razona si es positivo, negativo o neutral.\n",
    "Texto: \"{}\"\n",
    "Primero, explica por qué. Luego, indica si es positivo, negativo o neutral.\"\"\"\n",
    "\n",
    "prompts = {\n",
    "    \"zero-shot\": zero_shot_prompt,\n",
    "    \"few-shot\": few_shot_prompt,\n",
    "    \"chain-of-thought\": cot_prompt\n",
    "}"
   ]
  },
  {
   "cell_type": "code",
   "execution_count": 2,
   "id": "d1be4fd7",
   "metadata": {},
   "outputs": [
    {
     "ename": "NameError",
     "evalue": "name 'prompts' is not defined",
     "output_type": "error",
     "traceback": [
      "\u001b[1;31m---------------------------------------------------------------------------\u001b[0m",
      "\u001b[1;31mNameError\u001b[0m                                 Traceback (most recent call last)",
      "Cell \u001b[1;32mIn[2], line 12\u001b[0m\n\u001b[0;32m      8\u001b[0m     \u001b[38;5;28;01mreturn\u001b[39;00m response\u001b[38;5;241m.\u001b[39mchoices[\u001b[38;5;241m0\u001b[39m]\u001b[38;5;241m.\u001b[39mmessage[\u001b[38;5;124m\"\u001b[39m\u001b[38;5;124mcontent\u001b[39m\u001b[38;5;124m\"\u001b[39m]\u001b[38;5;241m.\u001b[39mstrip()\u001b[38;5;241m.\u001b[39mlower()\n\u001b[0;32m     10\u001b[0m results \u001b[38;5;241m=\u001b[39m {}\n\u001b[1;32m---> 12\u001b[0m \u001b[38;5;28;01mfor\u001b[39;00m method, prompt_template \u001b[38;5;129;01min\u001b[39;00m \u001b[43mprompts\u001b[49m\u001b[38;5;241m.\u001b[39mitems():\n\u001b[0;32m     13\u001b[0m     predictions \u001b[38;5;241m=\u001b[39m []\n\u001b[0;32m     14\u001b[0m     \u001b[38;5;28;01mfor\u001b[39;00m opinion \u001b[38;5;129;01min\u001b[39;00m df[\u001b[38;5;124m'\u001b[39m\u001b[38;5;124mopinion\u001b[39m\u001b[38;5;124m'\u001b[39m]:\n",
      "\u001b[1;31mNameError\u001b[0m: name 'prompts' is not defined"
     ]
    }
   ],
   "source": [
    "\n",
    "def predict_openai(opinion, prompt_template):\n",
    "    prompt = prompt_template.format(opinion)\n",
    "    response = openai.ChatCompletion.create(\n",
    "        model=\"gpt-3.5-turbo\",\n",
    "        messages=[{\"role\": \"user\", \"content\": prompt}],\n",
    "        temperature=0\n",
    "    )\n",
    "    return response.choices[0].message[\"content\"].strip().lower()\n",
    "\n",
    "results = {}\n",
    "\n",
    "for method, prompt_template in prompts.items():\n",
    "    predictions = []\n",
    "    for opinion in df['opinion']:\n",
    "        pred = predict_openai(prompt_template, opinion)\n",
    "        pred = pred.lower()\n",
    "        if \"positivo\" in pred:\n",
    "            predictions.append(\"positiva\")\n",
    "        elif \"negativo\" in pred:\n",
    "            predictions.append(\"negativa\")\n",
    "        elif \"neutral\" in pred:\n",
    "            predictions.append(\"neutral\")\n",
    "        else:\n",
    "            predictions.append(\"desconocido\")  # Fallback\n",
    "    results[method] = predictions\n",
    "\n",
    "for method, preds in results.items():\n",
    "    print(f\"\\n=== {method.upper()} ===\")\n",
    "    print(classification_report(df['label'], preds, zero_division=0))\n"
   ]
  }
 ],
 "metadata": {
  "kernelspec": {
   "display_name": "Python (mi_entorno)",
   "language": "python",
   "name": "mi_entorno"
  },
  "language_info": {
   "codemirror_mode": {
    "name": "ipython",
    "version": 3
   },
   "file_extension": ".py",
   "mimetype": "text/x-python",
   "name": "python",
   "nbconvert_exporter": "python",
   "pygments_lexer": "ipython3",
   "version": "3.12.6"
  }
 },
 "nbformat": 4,
 "nbformat_minor": 5
}
